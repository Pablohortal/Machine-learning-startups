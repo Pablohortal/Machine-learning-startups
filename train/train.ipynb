{
 "cells": [
  {
   "cell_type": "code",
   "execution_count": 1,
   "metadata": {},
   "outputs": [],
   "source": [
    "import numpy as np\n",
    "import pandas as pd\n",
    "from scipy import stats\n",
    "import seaborn as sns\n",
    "import matplotlib.pyplot as plt\n",
    "import os "
   ]
  },
  {
   "cell_type": "code",
   "execution_count": 2,
   "metadata": {},
   "outputs": [],
   "source": [
    "unicornios = pd.read_csv('C:/Users/horta/Desktop/EDA/World_Wide_Unicorn_Startups.csv')"
   ]
  },
  {
   "cell_type": "code",
   "execution_count": 3,
   "metadata": {},
   "outputs": [
    {
     "data": {
      "text/html": [
       "<div>\n",
       "<style scoped>\n",
       "    .dataframe tbody tr th:only-of-type {\n",
       "        vertical-align: middle;\n",
       "    }\n",
       "\n",
       "    .dataframe tbody tr th {\n",
       "        vertical-align: top;\n",
       "    }\n",
       "\n",
       "    .dataframe thead th {\n",
       "        text-align: right;\n",
       "    }\n",
       "</style>\n",
       "<table border=\"1\" class=\"dataframe\">\n",
       "  <thead>\n",
       "    <tr style=\"text-align: right;\">\n",
       "      <th></th>\n",
       "      <th>Company</th>\n",
       "      <th>Valuation</th>\n",
       "      <th>Date</th>\n",
       "      <th>Country</th>\n",
       "      <th>City</th>\n",
       "      <th>Industry</th>\n",
       "      <th>Investors</th>\n",
       "      <th>year</th>\n",
       "      <th>month</th>\n",
       "      <th>day</th>\n",
       "    </tr>\n",
       "  </thead>\n",
       "  <tbody>\n",
       "    <tr>\n",
       "      <th>0</th>\n",
       "      <td>Bytedance</td>\n",
       "      <td>140.0</td>\n",
       "      <td>4/7/2017</td>\n",
       "      <td>China</td>\n",
       "      <td>Beijing</td>\n",
       "      <td>Artificial intelligence</td>\n",
       "      <td>0      Sequoia Capital China, SIG Asia Investm...</td>\n",
       "      <td>2017</td>\n",
       "      <td>7</td>\n",
       "      <td>4</td>\n",
       "    </tr>\n",
       "    <tr>\n",
       "      <th>1</th>\n",
       "      <td>SpaceX</td>\n",
       "      <td>100.3</td>\n",
       "      <td>12/1/2012</td>\n",
       "      <td>United States</td>\n",
       "      <td>Hawthorne</td>\n",
       "      <td>Other</td>\n",
       "      <td>0      Sequoia Capital China, SIG Asia Investm...</td>\n",
       "      <td>2012</td>\n",
       "      <td>1</td>\n",
       "      <td>12</td>\n",
       "    </tr>\n",
       "    <tr>\n",
       "      <th>2</th>\n",
       "      <td>Stripe</td>\n",
       "      <td>95.0</td>\n",
       "      <td>1/23/2014</td>\n",
       "      <td>United States</td>\n",
       "      <td>San Francisco</td>\n",
       "      <td>Fintech</td>\n",
       "      <td>0      Sequoia Capital China, SIG Asia Investm...</td>\n",
       "      <td>2014</td>\n",
       "      <td>23</td>\n",
       "      <td>1</td>\n",
       "    </tr>\n",
       "    <tr>\n",
       "      <th>3</th>\n",
       "      <td>Klarna</td>\n",
       "      <td>45.6</td>\n",
       "      <td>12/12/2011</td>\n",
       "      <td>Sweden</td>\n",
       "      <td>Stockholm</td>\n",
       "      <td>Fintech</td>\n",
       "      <td>0      Sequoia Capital China, SIG Asia Investm...</td>\n",
       "      <td>2011</td>\n",
       "      <td>12</td>\n",
       "      <td>12</td>\n",
       "    </tr>\n",
       "    <tr>\n",
       "      <th>4</th>\n",
       "      <td>Canva</td>\n",
       "      <td>40.0</td>\n",
       "      <td>1/8/2018</td>\n",
       "      <td>Australia</td>\n",
       "      <td>Surry Hills</td>\n",
       "      <td>Internet software &amp; services</td>\n",
       "      <td>0      Sequoia Capital China, SIG Asia Investm...</td>\n",
       "      <td>2018</td>\n",
       "      <td>8</td>\n",
       "      <td>1</td>\n",
       "    </tr>\n",
       "  </tbody>\n",
       "</table>\n",
       "</div>"
      ],
      "text/plain": [
       "     Company  Valuation        Date        Country           City  \\\n",
       "0  Bytedance      140.0    4/7/2017          China        Beijing   \n",
       "1     SpaceX      100.3   12/1/2012  United States      Hawthorne   \n",
       "2     Stripe       95.0   1/23/2014  United States  San Francisco   \n",
       "3     Klarna       45.6  12/12/2011         Sweden      Stockholm   \n",
       "4      Canva       40.0    1/8/2018      Australia    Surry Hills   \n",
       "\n",
       "                       Industry  \\\n",
       "0       Artificial intelligence   \n",
       "1                         Other   \n",
       "2                       Fintech   \n",
       "3                       Fintech   \n",
       "4  Internet software & services   \n",
       "\n",
       "                                           Investors  year  month  day  \n",
       "0  0      Sequoia Capital China, SIG Asia Investm...  2017      7    4  \n",
       "1  0      Sequoia Capital China, SIG Asia Investm...  2012      1   12  \n",
       "2  0      Sequoia Capital China, SIG Asia Investm...  2014     23    1  \n",
       "3  0      Sequoia Capital China, SIG Asia Investm...  2011     12   12  \n",
       "4  0      Sequoia Capital China, SIG Asia Investm...  2018      8    1  "
      ]
     },
     "execution_count": 3,
     "metadata": {},
     "output_type": "execute_result"
    }
   ],
   "source": [
    "unicornios.head()"
   ]
  },
  {
   "cell_type": "code",
   "execution_count": 4,
   "metadata": {},
   "outputs": [
    {
     "name": "stdout",
     "output_type": "stream",
     "text": [
      "Número de industrias únicas: 17\n",
      "\n",
      "Número de startups por industria:\n",
      " Industry\n",
      "Fintech                                190\n",
      "Internet software & services           167\n",
      "E-commerce & direct-to-consumer        102\n",
      "Artificial intelligence                 69\n",
      "Health                                  63\n",
      "Supply chain, logistics, & delivery     51\n",
      "Other                                   51\n",
      "Cybersecurity                           41\n",
      "Mobile & telecommunications             37\n",
      "Data management & analytics             36\n",
      "Hardware                                32\n",
      "Auto & transportation                   29\n",
      "Edtech                                  27\n",
      "Consumer & retail                       23\n",
      "Travel                                  13\n",
      "Artificial Intelligence                  4\n",
      "Finttech                                 1\n",
      "Name: count, dtype: int64\n"
     ]
    }
   ],
   "source": [
    "industrias_unicas = unicornios['Industry'].unique()\n",
    "print(\"Número de industrias únicas:\", len(industrias_unicas))\n",
    "startups_por_industria = unicornios['Industry'].value_counts()\n",
    "print(\"\\nNúmero de startups por industria:\\n\", startups_por_industria)\n"
   ]
  },
  {
   "cell_type": "code",
   "execution_count": 5,
   "metadata": {},
   "outputs": [],
   "source": [
    "unicornios['Industry'] = unicornios['Industry'].replace('Finttech', 'Fintech')"
   ]
  },
  {
   "cell_type": "code",
   "execution_count": 6,
   "metadata": {},
   "outputs": [
    {
     "name": "stdout",
     "output_type": "stream",
     "text": [
      "\n",
      "Número de startups por industria:\n",
      " Industry\n",
      "Fintech                                191\n",
      "Internet software & services           167\n",
      "E-commerce & direct-to-consumer        102\n",
      "Artificial intelligence                 73\n",
      "Health                                  63\n",
      "Other                                   51\n",
      "Supply chain, logistics, & delivery     51\n",
      "Cybersecurity                           41\n",
      "Mobile & telecommunications             37\n",
      "Data management & analytics             36\n",
      "Hardware                                32\n",
      "Auto & transportation                   29\n",
      "Edtech                                  27\n",
      "Consumer & retail                       23\n",
      "Travel                                  13\n",
      "Name: count, dtype: int64\n"
     ]
    }
   ],
   "source": [
    "unicornios['Industry'] = unicornios['Industry'].replace('Artificial Intelligence', 'Artificial intelligence')\n",
    "\n",
    "startups_por_industria = unicornios['Industry'].value_counts()\n",
    "print(\"\\nNúmero de startups por industria:\\n\", startups_por_industria)\n"
   ]
  },
  {
   "cell_type": "code",
   "execution_count": 7,
   "metadata": {},
   "outputs": [
    {
     "name": "stdout",
     "output_type": "stream",
     "text": [
      "[\"0      Sequoia Capital China, SIG Asia Investments, S...\\n1      Founders Fund, Draper Fisher Jurvetson, Rothen...\\n2            Khosla Ventures, LowercaseCapital, capitalG\\n3      Institutional Venture Partners, Sequoia Capita...\\n4      Sequoia Capital China, Blackbird Ventures, Mat...\\n5      Khosla Ventures, Kleiner Perkins Caufield & By...\\n6      Andreessen Horowitz, New Enterprise Associates...\\n7             index Ventures, DST Global, Ribbit Capital\\n8      Sequoia Capital, Redpoint e.ventures, Kaszek V...\\n9                  Tencent Holdings, KKR, Smash Ventures\\n10      Forerunner Ventures, Crosslink Capital, Homebrew\\n11                Sequoia Capital, Thoma Bravo, Softbank\\n12     Tencent Holdings, Lightspeed India Partners, S...\\n13                        GGV Capital, ZhenFund, Tencent\\n14     Hillhouse Capital Management, Boyu Capital, Se...\\n15     SoftBank Group, Andreessen Horowitz, Temasek H...\\n16          Tencent Holdings, Warbug Pincus, IDG Capital\\n17                       Accel Partners, Sequoia Capital\\n18     Tiger Global Management, Sequoia Capital China...\\n19     Tiger Global Management, Insight Partners, DST...\\n20                 Accel, Softbank Group, Anthos Capital\\n21     New Enterprise Associates, Spar Capital, Index...\\n22     General Catalyst, Institutional Venture Partne...\\n23         Andreessen Horowitz, F-Prime Capital, Venrock\\n24     Khosla Ventures, Forerunner Ventures, Sequoia ...\\n25     DST Global, Ribbit Capital, Greenoaks Capital ...\\n26     Star VC, IDG Capital, Infore Capital, Alibaba ...\\n27                               Tiger Global Management\\n28     Coatue Management, Sequoia Capital China, IDG ...\\n29              Vickers Venture Partners, IKEA GreenTech\\n30     New Enterprise Associates, BDT Capital Partner...\\n31        LTW Capital, Legend Capital, Qualcomm Ventures\\n32     Aviation Industry Corporation of China, Essenc...\\n33                                        Accel, 83North\\n34     Tencent Holdings, Hillhouse Capital Management...\\n35     MindWorks Ventures, Shunwei Capital Partners, ...\\n36     IDG Capital, Venture51, Lightspeed Venture Par...\\n37     Index Ventures, Greylock Partners, Kleiner Per...\\n38     General Catalyst Partners, Google Ventures, Kl...\\n39      Y Combinator, Sequoia Capital, Coatue Management\\n40              DJF, Salesforce Ventures, Storm Ventures\\n41      Index Ventures, Draft Ventures, Felicis Ventures\\n42     Upper90, RiverPark Ventures, Advent International\\n43              Ribbit Capital, capitalG, Softbank Group\\n44          KKR, ES Ventures, North Bridge Growth Equity\\n45     Bessemer Venture Partners, ICONIQ Capital, Bat...\\n46     Sequoia Capital China, Tencent Investment, BA ...\\n47     Redalpine Venture Partners, Earlybird Venture ...\\n48                Summit Partners, Accel, Astral Capital\\n49           Vattenfall, Volkswagen Group, Goldman Sachs\\n50       Andreessen Horowitz, Nor-Cal Invest, TPG Growth\\n51                     Sequoia Capital China, GX Capital\\n52     Nintendo, Google, Pokemon Company Internationa...\\n53     SoftBank Group, Sequoia Capital India,Lightspe...\\n54     Target Global, General Catalyst, Durable Capit...\\n55            DST Global, SoftBank Group, Mountain Nazca\\n56            BOLDstart Ventures, Google Ventures, Accel\\n57     SoftBank Group, Greylock Partners, Gaorong Cap...\\n58     Sutter Hill Ventures, Liberty Global Ventures,...\\n59                  01 Advisors, Zeev Ventures, Group 11\\n60     New Enterprise Associates, T. Rowe Associates,...\\n61          KKR, Tencent Holdings, Sequoia Capital China\\n62     Kaalari Capital, Tencent Holdings, Steadview C...\\n63      Tenaya Capital, Coatue Management, Stripes Group\\n64     Sixth Street Partners, OrbiMed Advisors, Highl...\\n65     Union Square Ventures, Venrock, Andreessen Hor...\\n66     Accel, Northzone Ventures, Institutional Ventu...\\n67     Tiger Global Management, Sequoia Capital, Revo...\\n68     Lightspeed Venture Partners, Social Capital, A...\\n69     Bessemer Venture Partners, Qualcomm Ventures, ...\\n70     Menlo Ventures, Spark Capital, Union Square Ve...\\n71                   Accel, Y Combinator, Index Ventures\\n72            Volkswagen Group, Ford Autonomous Vehicles\\n73     Norwest Venture Partners, Next World Capital, ...\\n74     Andreessen Horowitz, Lightspeed Venture Partne...\\n75     Morgan Creek Digital, Marcy Venture Partners, ...\\n76                            Tencent, Morningside Group\\n77        Benchmark, Greylock Partners, Tencent Holdings\\n78     General Atlantic, Goldman Sachs, New Enterpris...\\n79     Sequoia Capital China, Warburg Pincus, General...\\n80              TA Associates, SoftBank Group, GS Growth\\n81                         Technology Crossover Ventures\\n82     Initialized Capital, Y Combinator, Kleiner Per...\\n83       Accel Partners, SoftBank Group, Sequoia Capital\\n84                 Andreessen Horowitz, General Catalyst\\n85     New Enterprise Associates, Accomplice, IA Vent...\\n86     Global Founders Capital, Nortzone Ventures, Pi...\\n87          Atomico, Insight Partners, Coatue Management\\n88                                       Barter Ventures\\n89              Thrive Capital, Benchmark, MenloVentures\\n90                 Warmsun Holding, IDG Capital Partners\\n91     Sequoia Capital China, Longfor Capitalm, Gaoro...\\n92     Pine Brook, American Express Ventures, Kleiner...\\n93     Insight Partners, Sequoia Capital, Index Ventures\\n94     Activant Capital, Tribe Capital, General Atlantic\\n95     NextView Ventures, Eniac Ventures, Sequoia Cap...\\n96            Alibaba Group, Boyu Capital, Borui Capital\\n97                      Tencent, Baidu, Huasheng Capital\\n98          Caffeinated Capital, CRV, Founder Collective\\n99     Technology Crossover Ventures, A&E Television ...\\n100    Thrive Capital, Maverick Ventures, Redpoint Ve...\\n101    Battery Ventures, Storm Ventures, Redpoint Ven...\\n102        Nexus Venture Partners, CRV, Insight Partners\\n103    Matrix Partners, Andreessen Horowitz, General ...\\n104     Sequoia Capital China, IDG Capital, DCM Ventures\\n105                       Founders Fund. Accel, Creandum\\n106    DST Global, Andreessen Horowitz, Sequoia Capit...\\n107     Index Ventures, Battery Ventures, ICONIQ Capital\\n108    Lightspeed Venture Partners, Google Ventures, ...\\n109      Redpoint Ventures, True Ventures, Mayfield Fund\\n110                                     Insight Partners\\n111    Kaszek Ventures, General Atlantic, SoftBank Group\\n112                                        Credit Suisse\\n113    China Life Insurance, China Development Bank C...\\n114            Ant Financial Services Group, GGV Capital\\n115    Accel India, SAIF Partners, Norwest Venture Pa...\\n116     Andreessen Horowitz, Spark Capital, Y Combinator\\n117    DST Global, Sequoia Capital China, Tencent Hol...\\n118    Hillhouse Capital Management, Linear Venture, ...\\n119               Baidu Capital, Linear Venture, Tencent\\n120    Initialized Capital, General Catalyst, SignalFire\\n121           General Atlantic, 3i Group, Huagai Capital\\n122    Walden International, Google Ventures, Intel C...\\n123    Accel, Technology Crossover Ventures, LeapFrog...\\n124    Clermont Group, Coltrane Asset Management, Tos...\\n125        Insight Partners, Andalusian Capital Partners\\n126    Venture Highway, Sequoia Capital India, Prosus...\\n127    Oak HC/FT Partners, Artis Ventures, WestCap Group\\n128    Andreessen Horowitz, Founders Fund, Revolution...\\n129      Greylock Partners, Venrock, Providence Ventures\\n130           Alven Capital, FirstMark Capital, capitalG\\n131                   Y Combinator, Accel, T. Rowe Price\\n132    General Catalyst, Viking Global Investors, T. ...\\n133    Telling Telecommunication Holding Co., Alibaba...\\n134    Accel, Insight Partners, Burda Principal Inves...\\n135    SV Angel, Institutional Venture Partners, Venrock\\n136    Sequoia Capital China, Tencent Holdings, Sinov...\\n137    Two Sigma Ventures, Flint Capital, Commerce Ve...\\n138    Passion Capital, Thrive Capital, Orange Digita...\\n139    CDH Investments, Goldstone Investments, Qiming...\\n140                 Mayfield Fund, M12, Trinity Ventures\\n141               Didi Chuxing, Diamler, TMT Investments\\n142    Threshold Ventures, Lightspeed Venture Partner...\\n143    Lightspeed Venture Partners, Redpoint Ventures...\\n144                     Benchmark, Accel, SoftBank Group\\n145               Playground Global, Bond, Tribe Capital\\n146    Sequoia Capital China, Qiming Venture Partners...\\n147                           Addition, Benhcmark, Accel\\n148    Lightspeed Venture Partners, Khosla Ventures, ...\\n149                                      Sequoia Capital\\n150    Venrock, Institutional Venture Partners, Goldm...\\n151          Speedinvest, Valar Ventures, Uniqa Ventures\\n152    New Enterprise Associates, Sequoia Capital, Co...\\n153    Tiger Global Management, DST Global, Sequoia C...\\n154                                          Formation 8\\n155    Ant Financial Services Group, Russia-China Inv...\\n156                     SoftBank Group, General Atlantic\\n157    Khosla Ventures, Horizons Ventures, Temasek Ho...\\n158    New Enterprise Associates, Starr Investment Ho...\\n159          Zeev Ventures, Ribbit Capital, TLV Partners\\n160                  Index Ventures, Thrive Capital, CRV\\n161    Dragoneer Investment Group, Hellman & Friedman...\\n162    Sequoia Capital, Bessemer Venture Partners, Th...\\n163                     Andreessen Horowitz, TQ Ventures\\n164                Accel, Insight Partners, Bond Capital\\n165    Drive Capital, General Catalyst, Ascension Ven...\\n166                           BlackRock, Blackstone, UBS\\n167    Greylock Partners, Lightspeed Venture Partners...\\n168              Accel, Aleph, American Express Ventures\\n169             SoftBank Group, Norwest Venture Partners\\n170                    Georgian Partners, Craft Ventures\\n171       Benchmark, Foundation Capital, Sequoia Capital\\n172    Blackrock, Kleiner Perkins Caulfield & Byers, ...\\n173       D1 Capital Partners, Stripe, Coatue Management\\n174    New Enterprise Associates, New Leaf Venture Pa...\\n175        Google Ventures, Battery Ventures, DST Global\\n176                         Y Combinator, Atomico, Accel\\n177          General Atlantic, Blackstone, ICONIQ Growth\\n178          Blackstone, ICONIQ Growth, General Atlantic\\n179    Tiger Global Management, American Express Vent...\\n180    Casa Verde Capital, Gron Ventures, Thrity Five...\\n181    SoftBank Group, Sequoia Capital, Wing Venture ...\\n182    Norwest Venture Partners, Goldman Sachs, Dell ...\\n183    Upfront Ventures, Webb Investment Network, D1 ...\\n184     Qualcomm Ventures, Samsung Ventures, Silver Lake\\n185    Breakthrough Energy Ventures, Capricorn Invest...\\n186    Bessemer Venture Partners, Insight Partners, N...\\n187                          Silver Lake, ICONIQ Capital\\n188    NextView Ventures, Promus Ventures, Two Sigma ...\\n189    Andreessen Horowitz, Lux Capital, General Cata...\\n190                                         EQT Partners\\n191    Activant Capital Group, Alaska Permanent Fund,...\\n192                                            Kuang-Chi\\n193    Fairfax Financial Holdings, A91 Partners, TVS ...\\n194                     General Catalyst, HCA Healthcare\\n195               Elaia Partners, 83North, Felix Capital\\n196    Two Sigma Ventures, Flint Capital, Commerce Ve...\\n197    Airbus Ventures, Index Ventures, Advent Intern...\\n198         DFJ Growth Fund, Coatue Management, Addition\\n199    Blume Ventures, Nexus Venture Partners, Sequoi...\\n200    New Enterprise Associates, Coatue Management, ...\\n201    China Environmental Protection Industry, China...\\n202    Insight Partners, Salesforce Ventures, Vertex ...\\n203    Union Square Ventures, Ribbit Capital, VY Capital\\n204    Oriza Holdings, Guangdong Technology Financial...\\n205    Geely, SIG Asia Investments, China State Capit...\\n206    Bessemer Venture Partners, Sutter Hill Venture...\\n207          Greycroft, Sands Capital, Revolution Growth\\n208    Atop Capital, IDInvest Partners, Qiming Ventur...\\n209    Andreessen Horowitz, IA Ventures, Felicis Vent...\\n210                               Alibaba Pictures Group\\n211        Tiger Global, Sequoia Capital, Google Capital\\n212    Bloomberg Beta, Founders Fund, First Round Cap...\\n213    Thrive Capital, Founders Fund, Cocnord Health ...\\n214                      Aglae Ventures, Eurazeo, Daphni\\n215    Sequoia Capital India, Softbank, Bertelsmann I...\\n216    AME Cloud Ventures, Future Perfect Ventures, B...\\n217     Third Point, Electric Capital, Coinbase Ventures\\n218    Shunwei Capital Partners, Addor Capital, New H...\\n219                    Playground Global, M12, BlackRock\\n220    Dragoneer Investment Group, DST Global, Frankl...\\n221    DST Global, Lightspeed Venture Partners, Micro...\\n222    Susquehanna Growth Equity, Citi Ventures, ICON...\\n223            Kaszek Ventures, Qualcomm Ventures, Accel\\n224    Ceyuan Ventures, QiMing Venture Partners, Tema...\\n225    Sequoia Capital China, Sina Weibo, Kleiner Per...\\n226    Global Founders Capital, East Ventures, Expedi...\\n227    Morningside Ventures, Warburg Pincus, CreditEa...\\n228                                 CPP Investment Board\\n229      General Catalyst, Digital Currency Group, Accel\\n230    Sequoia Capital China, Xiang He Capital, GGV C...\\n231    Times Internet, Nexus Venture Partners, SoftBa...\\n232    Holtzbrinck Ventures, Unternehmertum Venture C...\\n233                 Benchmark, Bessemer Venture Partners\\n234      Sequoia Capital India, Temasek, PayPal Ventures\\n235    Artiman Ventures, Plug and Play Ventures, Anth...\\n236    Sequoia Capital India, Tiger Global Management...\\n237    Sequoia Capital Israel, Scale Venture Partners...\\n238            ICONIQ Capital, OpenView Venture Partners\\n239              ConsenSys Ventures, Valar Ventures, PUC\\n240    Silversmith Capital Partners, Susquehanna Grow...\\n241    Cambridge Innovation Capital, LGT Capital Part...\\n242    Spectrum Equity, ICONIQ Capital, Grayhawk Capital\\n243                                       Iconiq Capital\\n244    Brookfield Asset Management, Blackstone, Data ...\\n245    India Quotient, Elevation Capital, Lightspeed ...\\n246    Balderton Capital, General Catalyst, Tiger Glo...\\n247    Uncork Capital, Threshold Ventures, Bloomberg ...\\n248    Capital One Growth Ventures, Citi Ventures, OM...\\n249    Jackson Square Ventures, General Atlantic, Lig...\\n250    Lightspeed Venture Partners, Lead Edge Capital...\\n251    Coatue Management, Atlantic Food Labs, DST Global\\n252    SoftBank Group, Tiger Global Management, Matri...\\n253         Fabric Ventures, 500 Global, Standard Crypto\\n254    WestCap Group, Caisse de depot et placement du...\\n255    Uniion Square Ventures, Tiger Global Managemen...\\n256    Tiger Global Management, Insight Partners, Jum...\\n257    Tiger Global Management, Sequoia Capital India...\\n258              Accel, Summit Partners, Google Ventures\\n259    83North, RiverPark Ventures, Pitango Venture C...\\n260    Bnk To The Future, Trammell Ventures, SBI Inve...\\n261                                      Khosla Ventures\\n262           Grab, Tokopedia, Tokyo Century Corporation\\n263    Founders Fund, Quantum Energy Partners, Bedroc...\\n264       Monashees+, Andreessen Horowitz, QED Investors\\n265    Matrix Partners India, Falcon Edge Capital, So...\\n266     Insight Partners, Sequoia Capital India, BEENEXT\\n267           Point72 Ventures, Route 66 Ventures, Accel\\n268    Tiger Global Management, Blue Lake Capital, Zh...\\n269    Eight Roads Ventures, Greycroft, Ignition Part...\\n270         Goodwater Capital, iFly, XVC Venture Capital\\n271            Highland Europe, Eurazeo, Canaan Partners\\n272    Sequoia Capital, Baillie Gifford & Co., Google...\\n273    Dell Technologies Capital, Pitango Venture Cap...\\n274    Data Collective, Formation 8, General Catalyst...\\n275            Greylock Partners, capitalG, Y Combinator\\n276    Institutional Venture Partners, New Enterprise...\\n277    General Atlantic, Insight Partners, Vintage In...\\n278    HD Capital, Qihoo 360 Technology, China Fortun...\\n279      Notion Capital, Scentan Ventures, Kite Ventures\\n280                       Goldman Sachs Asset Management\\n281              Mubadala Capital, Bond, Prosus Ventures\\n282    General Atlantic, Piton Capital, Partech Partners\\n283    Redpoint Ventures, Goldcrest Capital, Insight ...\\n284    Contour Venture Partners, Battery Ventures, Co...\\n285    Insight Partners, Jackson Square Ventures, Lib...\\n286                   JD.com, Baidu, Vision Plus Capital\\n287           Foundry Group, General Atlantic, BlackRock\\n288                                        Rhone Capital\\n289            FAW Group, Tencent Holdings, Tus Holdings\\n290         Goldman Sachs, VebVentures, Insight Partners\\n291    Coatue Managemeny, Trinity Ventures, Matrix Pa...\\n292            Chiratae Ventures, PremjiInvest, Softbank\\n293    Accel, Tiger Global Management, Nexus Venture ...\\n294    Warburg Pincus, The Rise Fund, HarbourVest Par...\\n295    Aspect Ventures, SingTel Innov8, Greylock Part...\\n296                     Warburg Pincus, General Catalyst\\n297                          CRV, Accel, Google Ventures\\n298    Soros Fund Management, Ribbit Capital, Monashees+\\n299       Sequoia Capital India, RTP Global, Go-Ventures\\n300                   SoftBank Group, CRV, Spark Capital\\n301    Shunwei Capital Partners, China Media Group, G...\\n302    Shunwei Capital Partners, China Media Group, G...\\n303    Google Ventures, Sequoia Capital, Wakefield Group\\n304                          Info Edge, Softbank Capital\\n305    Liberty City Ventures, RRE Ventures, Mithril C...\\n306    Norwest Venture Partners, Aspect Ventures, Lig...\\n307    Menlo Ventures, GGV Capital, Flybridge Capital...\\n308    T. Rowe Price, Dragoneer Investment Group, Bla...\\n309    T. Rowe Price, Lockheed Martin Ventures, Fidel...\\n310    Octopus Ventures, Munich Re Ventures, CommerzV...\\n311               Kibo Ventures, SoftBank Group, Atomico\\n312                                  IMM Investment, NXC\\n313     V FUND, IDG Capital, Green Pine Capital Partners\\n314                      Tencent Holdings, Goldman Sachs\\n315    Revolution, New Enterprise Associates, Caterpi...\\n316    Google Ventures, Index Ventures, Scale Venture...\\n317    RedBird Capital Partners, CJ ENM, Tencent Hold...\\n318         Relay Ventures, TTV Capital, Canapi Ventures\\n319    Madrona Venture Group, Shasta Ventures, Salesf...\\n320           Temasek, Google Ventures, General Catalyst\\n321          Summit Partners, Noshaq, Sofinnova Partners\\n322       Softbank Group, AME Cloud Ventures, SignalFire\\n323                 Accel, Alven Capital, Storm Ventures\\n324    Knox Lane, Ainge Advisory, Carlson Private Cap...\\n325    Threshold Ventures, O'Reilly AlphaTech Venture...\\n326                                     General Atlantic\\n327                                      Sequoia Capital\\n328              Expa, QED Investors, Foundation Capital\\n329    Pantera Capital, QED Investors, Coinbase Ventures\\n330            General Atlantic, SoftBank Group, Atomico\\n331        Sequoia Capital China, DST Global, DST Global\\n332    Sierra Ventures, Battery Ventures, Asset Manag...\\n333    Zhangjiang Haocheng Venture Capital, Walden In...\\n334                Sequoia Capital China, Banyan Capital\\n335              8VC, D1 Capital Partners, Sway Ventures\\n336        Google Ventures, Benchmark, FirstMark Capital\\n337    Eight Roads Ventures, One Peak Partners, Creandum\\n338    Plug and Play Ventures, Valor Capital Group, D...\\n339    SoftBank Group, SAIF Partners India, Valiant C...\\n340    Foundation Capital, Institutional Venture Part...\\n341        Accel, Silversmith Capital Partners, capitalG\\n342          Venrock, Battery Ventures, Insight Partners\\n343                 VY Capital, Accel, Elevation Capital\\n344    ICONIQ Growth, Bain Capital Ventures, Summit P...\\n345    Lightspeed Venture Partners, Sapphire Ventures...\\n346    GSR Ventures, Sapphire Ventures, Streamlined V...\\n347    Tencent Holdings, Walden Venture Capital, Glob...\\n348    Runa Capital, Acton Capital Partners, Point Ni...\\n349                                   L Capital Partners\\n350           RRE Ventures, Tiger Global, August Capital\\n351    Sequoia Capital China, Matrix Partners China, ...\\n352    Accel Partners, Index Ventures, Insight Ventur...\\n353    Delphi Automotive, Samsung Ventures, Motus Ven...\\n354    Zheshang Venture Capital, GP Capital, Western ...\\n355             Y Combinator, Matrix Partners, Benchmark\\n356    Andreessen Horowitz, SoftBank Group, Temasek H...\\n357    Toyota Motor Corporation, Mizuho Financial Gro...\\n358    Pitango Venture Capital, DFJ Growth Fund, Foun...\\n359    Sequoia Capital China, China Construction Bank...\\n360    Insight Venture Partners, TPG Growth, Sound Ve...\\n361    Insight Partners, TPG Alternative & Renewable ...\\n362    Qiming Venture Partners, Capital Today, Genera...\\n363    Nexus Venture Partners, Tenaya Capital, Sequoi...\\n364             GGV Capital, IDG Capital, Linear Venture\\n365    Magma Venture Partners, Pitango Venture Capita...\\n366    Bertelsmann Asia Investments, GGV Capital, Mor...\\n367    Viola Ventures, Dell Technologies Capital, Bai...\\n368    Matrix Partners China, Eastern Bell Capital, H...\\n369            Blackrock, capitalG, World Lab Innovation\\n370       Caffeinated Capital, Obvious Ventures, Venrock\\n371                                           Blackstone\\n372    Jerusalem Venture Partners, Israel Growth Part...\\n373    Tiantu Capital, CMB International Capital, Vis...\\n374    Qiming Venture Partners, Kleiner Perkins Caufi...\\n375    Highland Capital Partners, Oak HC/FT Partners,...\\n376    Tomales Bay Capital, Bain & Company, General C...\\n377                      Index Ventures, Creandum, Accel\\n378    Meritech Capital Partners, Tiger Global Manage...\\n379              Sequoia Capital, Google Ventures, Accel\\n380    Matrix Partners China, Sequoia Capital China, ...\\n381                   next47, MaC Venture Capital, FinVC\\n382             CRV, Blue Cloud Ventures, Index Ventures\\n383                                          Undisclosed\\n384    Alta Ventures Mexico, General Atlantic, SoftBa...\\n385        Qualcomm Ventures, SoftBank Group. Monashees+\\n386    Insight Partners, Tiger Global Management, Gra...\\n387    Oak HC/FT Partners, GF Investments, Harvey Gol...\\n388                      Slack Fund, Accel, Skip Capital\\n389                                        A&NN, Rusnano\\n390    Tencent Holdings, 5Y Capital, Sequoia Capital ...\\n391    Andreessen Horowitz, Caffeinated Capital, SciF...\\n392    Upfront Ventures, Tao Capital Partners, Andree...\\n393    Sequoia Capital China, Source Code Capital, Re...\\n394                  Ignition Partners, Formation 8, CRV\\n395    Japan Post Capital, Globis Capital Partners, A...\\n396    Accel, D1 Capita Partners, Greenoaks Capital M...\\n397             Rethink Impact, Work-Bench, RRE Ventures\\n398    Northern Light Venture Capital, Xiaomi, Future...\\n399          Vision Plus Capital, GSR Ventures, ZhenFund\\n400          Benchmark, Altimeter Capital, Quiet Capital\\n401    Obvious Ventures, Qualcomm Ventures, Andreesse...\\n402    Northzone Ventures, White Star Capital, Novato...\\n403    Institutional Venture Partners, Atomico, Early...\\n404    Lightspeed Venture Partners, Almaz Capital Par...\\n405    Insight Partners, Warburg Pincus, Ayala Corpor...\\n406     K9 Ventures, Menlo Ventures, Andreessen Horowitz\\n407        Gauss Ventures, Ventura Capital, dmg ventures\\n408             ClalTech, Vertex Ventures, Oryzn Capital\\n409           Sequoia Capital, Paradigm, Pantera Capital\\n410    Andreessen Horowitz, Kleiner Perkins Caufield ...\\n411          8VC, Activant Capital, GLP Capital Partners\\n412    Khosla Ventures, Green Innovations, Founders Fund\\n413                     SoftBank Group, Maverick Capital\\n414      Trustbridge Partners, Hony Capital, IDG Capital\\n415    JTC Group, Qatar Investment Authority, Fidelit...\\n416    FirstMark Capital, Tiger Global Management, IC...\\n417        K2VC, Lightspeed China Partners, Sky9 Capital\\n418    Point72 Ventures, Pelion Venture Partners, Com...\\n419    Venrock, CVF Capital Partners, ARCH Venture Pa...\\n420    Tiger Global Management, Sequoia Capital India...\\n421                    Automobile Industry Guidance Fund\\n422              The Carlyle Group, CVC Capital Partners\\n423    Insight Venture Partners, Lowercase Capital, P...\\n424        Founders Fund, Khosla Ventures, Goldman Sachs\\n425    Fashion Tech Lab, Fidelity Investments, Vast V...\\n426    Google Ventures, Kleiner Perkins Caufield & By...\\n427    Viola Ventures, Insight Partners, ClalTech, Go...\\n428                 SOSV, Khosla Ventures, Lerer Hippeau\\n429    Jiangsu Sha Steel Group, Shanghai Puyin Indust...\\n430    Kaszek Ventures, Amadeus Capital Partners, Quo...\\n431    Blumberg Capital, American Express Ventures, B...\\n432    General Catalyst, Eleation Capital, Avenir Gro...\\n433          YL Ventures, Redpoint Ventures, GGV Capital\\n434    Moore Strategic Ventures, DST Global, Sequoia ...\\n435    Redpoint Ventures, QiMing Venture Partners, Ch...\\n436     Thrive Capital, Tiger Global Management, Temasek\\n437    Lerer Hippeau Ventures, T. Rowe Price, Tiger G...\\n438    Tao Capital Partners, Global Asset Capital, Ti...\\n439    Menlo Ventures, Alkeon Capital Management, Cit...\\n440    Alta Partners, Questa Capital, Echo Health Ven...\\n441    Insight Partners, Sequoia Capital, Index Ventures\\n442    Threshold Ventures, Baseline Ventures, Harriso...\\n443     DN Capital, Left Lane Capital, Coatue Management\\n444                         Creandum, Founders, Kinnevik\\n445              Stripe, Founders Fund, Partech Partners\\n446        Eurazeo, IDInvest Partners, Balderton Capital\\n447    DataTribe, Energy Impact Partners, AllegisCybe...\\n448    Crosslink Capital, .406 Ventures, Sapphire Ven...\\n449    Nexus Venture Partners, Transamerica Ventures,...\\n450               Greycroft, Lerer Hippeau, Geekdom Fund\\n451            Index Ventures, Temasek, Portag3 Ventures\\n452        Salesforce Ventures, Seedcamp, OMERS Ventures\\n453    Bessemer Venture Partners, Eight Roads Venture...\\n454                                             Carsales\\n455      Boxin Capital, DT Capital Partners, IDG Capital\\n456                   Cybernaut Growth Fund, IDG Capital\\n457        Yabeo Capital, SBI Investment, Vulcan Capital\\n458                            TPG Growth, Goldman Sachs\\n459                                          GAM Holding\\n460    People Electrical Appliance Group China, Zhong...\\n461         next47, First Round Capital, Sequoia Capital\\n462    Shenzhen Capital Group, Sequoia Capital China,...\\n463    Sequoia Capital, Bain Capital Ventures, enaya ...\\n464          Mayfield Fund, Shasta Ventures, L Catterton\\n465    Thrive Capital, Alliance Consumer Growth, Imag...\\n466    OMERS Private Equity, T. Rowe Price, Technolog...\\n467    Blackbird Ventures, IndexVentures, Tiger Globa...\\n468    GreatPoint Ventures, Meritech Capital Partners...\\n469           Technology Crossover Ventures, Accel, Aker\\n470    March Capital Partners, HOF Capital, Emergence...\\n471    BEENEXT, World Innovation Lab, Light Street Ca...\\n472    Andreessen Horowitz, Coatue Management, Clockt...\\n473      Zeev Ventures, Menlo Ventures,Crosslink Capital\\n474    Initialized Capital, Sound Ventures, TI Platfo...\\n475                                       IFC, Ajinomoto\\n476    Guozhong Venture Capital Management, Shenzhen ...\\n477    Centurium Capital, Cedarlake Capital, Unicom I...\\n478    Sequoia Capital China, Warburg Pincus, IDG Cap...\\n479    Kleiner Perkins Caufield & Byers, Sequoia Capi...\\n480    China Creation Ventures, Sierra Ventures, Xing...\\n481    Alibaba Group,Co-Stone Venture Capital, Buhuo ...\\n482                    Sequoia Capital, General Atlantic\\n483                GGV Capital, QiMing Venture Partnersl\\n484    Warburg Pincus, Aviation Industry Corporation ...\\n485    Volkswagen, Access Industries, Vostok New Vent...\\n486    Alibaba Group, China Everbright Investment Man...\\n487    Trustbridge Partners, IDG Capital, Sequoia Cap...\\n488     Morningside Ventures, Capital Today, JOY Capital\\n489    Legend Capital, CDH Investments, Sequoia Capit...\\n490    Source Code Capital, Meituan Dianping, Tencent...\\n491                                       SoftBank Group\\n492    New Enterprise Associates, Founders Fund, Goog...\\n493    Jackson Square Ventures, Madrone Capital Partn...\\n494    Norwest Venture Partners, Accel, Tiger Global ...\\n495         Max Ventures, Mangrove Capital Partners, 14W\\n496    Rubicon Technology Partners, Max Ventures, Inc...\\n497    Moonshots Capital, BoxGroup, Blu Venture Inves...\\n498    Kleiner Perkins Caufield & Byers, Lightspeed V...\\n499       Sequoia Capital, Y Combinator, F-Prime Capital\\n500     Deciens Capital, Bezos Expeditions, 500 Startups\\n501    Digital Currency Group, Draper Esprit, Korelya...\\n502             Amiti Ventures, Playground Global, Aleph\\n503    Source Code Capital, Coatue Management, DCM Ve...\\n504    Andreessen Horowitz, Amplify Partners, Sequoia...\\n505    Redpoint Ventures, Providence Equity Partners,...\\n506    Andreessen Horowitz, Thirty Five Ventures, Sou...\\n507    Mayfield Fund, Insight Partners, Rembrandt Ven...\\n508       Kaszek Ventures, SOSV, Tiger Global Management\\n509    Felicis Ventures, Index Ventures, Blackbird Ve...\\n510    Insight Partners, Coinbase Ventures, PayPal Ve...\\n511    Global Founders Capital, Shea Ventures, Greycroft\\n512                 VGames, Lakestar, Galaxy Interactive\\n513    Scale Venture Partners, Sapphire Ventures, Bat...\\n514     Coatue Management, Index Ventures, Founders Fund\\n515    Y Combinator, Andreessen Horowitz, Wonder Vent...\\n516    Ant Group, Charoen Pokphand Group, Bow Wave Ca...\\n517    Spark Capital, Google Ventures, CRE Venture Ca...\\n518    Nyca Partners, Index Ventures, Technology Cros...\\n519    Insight Partners, Softbank Group, Connect Vent...\\n520    Insight Partners, Kibo Ventures, Bessemer Vent...\\n521    Accomplice, Polychain Capital, GoldenTree Asse...\\n522                          PSG, ION Crossover Partners\\n523            Chiratae Ventures, Accel, Kalaari Capital\\n524    Eastern Bell Capital, Capital Today, Longzhu C...\\n525         China Grand Prosperity Investment, CSC Group\\n526                              Baidu, Tencent Holdings\\n527    Ding Xiang Capital, New Hope Fund, Sino-Ocean ...\\n528                              Taigang Venture Capital\\n529                                     General Atlantic\\n530                      Sodexo Ventures, SoftBank Group\\n531    Left Lane Capital, Clocktower Technology Ventu...\\n532    Index Ventures, Thrive Capital, Bain Capital V...\\n533      Kickstart Fund, General Catalyst, Drive Capital\\n534    Initialized Capital, Canaan Partners, Sound Ve...\\n535    New Enterprise Associates, Tiger Global manage...\\n536                   BNP Paribas, Goldman Sachs, Google\\n537       Phoenix New Media, Tianjin Haihe Industry Fund\\n538          Seaya Ventures, Otter Rock Capital, Rakuten\\n539     Eastern Bell Capital, SF Holding Co, STO Express\\n540           Orange Digital Ventures, Access Industries\\n541    Global Founders Capital, Comcast Ventures, For...\\n542       New Enterprise Associates, CRV, Index Ventures\\n543                             EQT Partners, Blackstone\\n544    Bessemer Venture Partners, Vintage Investment ...\\n545    Sequoia Capital India, Lightbox Ventures, Coat...\\n546    Greylock Partners, General Catalyst, Khosla Ve...\\n547    Sequoia Capital India, Tiger Global Management...\\n548    Goodwater Capital, Entree Capital, Valar Ventures\\n549    Sierra Ventures, AXA Venture Partners, Sigma P...\\n550    Helion Venture Partners, Tiger Global manageme...\\n551     Signal Peak Ventures, Owl Ventures, Jump Capital\\n552    Refactor Capital, Andreessen Horowitz, Fifty Y...\\n553     Insight Partners, Tiger Global Management, Accel\\n554    BlackRock, Tengelmann Ventures, Holtzbrinck Ve...\\n555    Simon Equity Partners, Wavemaker Partners, Ant...\\n556    Innovation Endeavors, s28 Capital, Lightspeed ...\\n557                       Summit Partners, Qatar Holding\\n558     DESUN Capital, Yunfeng Capital, Meridian Capital\\n559    Sequoia Capital China, Goldman Sachs, Matrix P...\\n560    Green Pine Capital Partners, Ivy Capital, DCM ...\\n561    Lightspeed Venture Partners, Khosla Ventures, ...\\n562    Bessemer Venture Partners, Eniac Ventures, Can...\\n563       Menlo Ventures, Resolute Ventures, IA Ventures\\n564    Marchmont Ventures, BMW i Ventures, Index Vent...\\n565    Kleiner Perkins Caufield & Byers, Comcast Vent...\\n566        MHS Capital, NextView Ventures, Mayfield Fund\\n567                                        Goldman Sachs\\n568    Advantech Capital, Temasek Holdings Ltd., Tian...\\n569             ARCH Venture Partners, Ally Bridge Group\\n570    BlueCross BlueShield Venture Partners, US Vent...\\n571    Structure Capital, Spark Capital, Greylock Par...\\n572    Hopu Investment Management, Boyu Capital, DC T...\\n573                                          Undisclosed\\n574    York Capital Management, GE Healthcare, Koch D...\\n575    Highland Capital Partners, Next Coast Ventures...\\n576          Coatue Management, H Capital, Capital Today\\n577               N5 Capital, CR Capital Mgmt, JD Digits\\n578    M12, WestBridge Capital, Lightspeed Venture Pa...\\n579    Insight Partners, Silversmith Capital Partners...\\n580          Gobi Partners, 500 Startups, Ondine Capital\\n581    Kaszek Ventures, QED Investors, International ...\\n582    Bessemer Venture Partners, Menlo Ventures, Ant...\\n583    SignalFire, GLP Capital Partners, Google Ventures\\n584    Lightspeed Venture Partners, Dell Technologies...\\n585            Social Capital, Bessemer Venture Partners\\n586           FirstMark Capital, Tiger Global Management\\n587      Mitsubishi Corporation, Mayfair Equity Partners\\n588     IDG Capital, Gaocheng Capital, Chuanrong Capital\\n589    Dark Horse Technology Group, Hopu Investment M...\\n590    Insight Venture Partners, ICONIQ Capital, Laun...\\n591    BOLDstart Ventures, SAP.iO Fund, Scale Venture...\\n592    First Round Capital, Sequoia Capital, Index Ve...\\n593    Sequoia Capital China, CMC Capital Partners, T...\\n594         Passion Capital, Hedosophia, Outrun Ventures\\n595    Andreessen Horowitz, Prosus Ventures, Thrive C...\\n596    Javelin Venture Partners, Struck Capital, Alum...\\n597                 Dila Capital, Framework Ventures, 3L\\n598                     TSG Consumer Partners, Crowdcube\\n599    Tencent Holdings, Delta Capital, Redpoint Vent...\\n600      Nextech Invest, Casdin Capital, Google Ventures\\n601                        Trane Technologies, Honeywell\\n602    BOLDstart Ventures, Lerer Hippeau, Kenetic Cap...\\n603    Shunwei Capital Partners, 5Y Capital, Legend C...\\n604            Cool Japan Fund, JAFCO, The Carlyle Group\\n605                    Alibaba Group, KKR, Goldman Sachs\\n606    CreditEase Fintech Investment Fund, BMW i Vent...\\n607    Forerunner Ventures, Institutional Venture Par...\\n608                                                  ICG\\n609    Madrona Venture Group, Kleiner Perkins Caufiel...\\n610     Andreessen Horowitz, Google Ventures, Section 32\\n611    Index Ventures, Coatue Management, Andreessen ...\\n612    Georgian Partners, Silver Lake, Presidio Ventures\\n613                   Accel, Greycroft, Advancit Capital\\n614    Vertex Ventures Israel, Bessemer Venture Partn...\\n615          Speedinvest, Valar Ventures, Uniqa Ventures\\n616    Source Code Capital, XVC Venture Capital, Hill...\\n617    Index Ventures, Sequoia Capital, Bezos Expedit...\\n618    Sequoia Capital China, Lenovo Capital and Incu...\\n619    SWaN & Legend Ventures, Revolution Growth, Inv...\\n620     IA Ventures, Khosla Ventures, AME Cloud Ventures\\n621    Version One Ventures, Bessemer Venture Partner...\\n622    Flagship Pioneering, Alexandria Venture Invest...\\n623    Emergence Capital Partners, 8VC, Chicago Ventures\\n624    Costanoa Ventures, Data Collective, Salesforce...\\n625    Cherry Ventures, Northzone Ventures, Global Fo...\\n626         IDG Capital, ZhenFund, Sequoia Capital China\\n627    Partech Partners, Index Ventures, Quadrille Ca...\\n628    Newpath Partners, Google Ventures, F-Prime Cap...\\n629    Polaris Partners, Insight Partners, Norwest Ve...\\n630            Qualcomm Ventures, Accel, Canaan Partners\\n631            Qualcomm Ventures, Accel, Canaan Partners\\n632    RPM Ventures, Inspiration Ventures, Carrick Ca...\\n633            Kinnevik, Softbank Group, Prosus Ventures\\n634    Pantera Capital, Polychain Capital, Lightspeed...\\n635    Insight Partners, Salesforce Ventures, Perpetu...\\n636    Accel, Greylock Partners, Meritech Capital Par...\\n637    Sequoia Capital India, Hillhouse Capital Manag...\\n638    L'Occitane, Trifecta Capital, Bessemer Venture...\\n639    Craft Ventures, Caffeinated Capital, Operator ...\\n640    Sequoia Capital India, Hummingbird Ventures, E...\\n641      GGV Capital, Tiger Global Management, Greycroft\\n642                                         CDIB Capital\\n643    Qiming Venture Partners, China Internet Invest...\\n644    Russia-China Investment Fund, Tencent Holdings...\\n645       Accel, Bain Capital Ventures, Insight Partners\\n646    Sequoia Capital China, Qiming Venture Partners...\\n647    Source Code Capital, Global Logistic Propertie...\\n648    Kleiner Perkins Caufield & Byers, Afore Capita...\\n649          Goodwater Capital, Floodgate, Founders Fund\\n650    Qiming Venture Partners, Yaxia Automobile, Far...\\n651    IDG Capital, Bank Of China Group Investment,, ...\\n652                                 Advent International\\n653    Pelion Venture Partners, Foundation Capital, T...\\n654    Pelion Venture Partners, Foundation Capital, T...\\n655     Venrock, Innovation Endeavors, Insights Partners\\n656    General Catalyst, Bling Capital, Felicis Ventures\\n657                   BPI France, Kerala Ventures, Accel\\n658              Dynamo VC, Susa Ventures, Founders Fund\\n659    China Reform Fund, Gaopeng Capital, Jinhui Xingye\\n660    Draper Fisher Jurtson, Qualcomm Ventures, Alib...\\n661               Mithril, iNovia Capital, Foundry Group\\n662    Tiantu Capital, SAIF Partners China, Newsion V...\\n663                     KKR, TowerBrook Capital Partners\\n664    Khosla Ventures, Horizons Ventures, Founders Fund\\n665     Spark Capital, Highland Europe, Sunstone Capital\\n666                 Ardian, Tiger Global Management, KKR\\n667     Opus Capital, Genesis Partners, Battery Ventures\\n668             NewView Capital, Maveron, Ridge Ventures\\n669                                    The Carlyle Group\\n670       Caffeinated Capital, Obvious Ventures, Venrock\\n671               Accelm Scania Growth Capital, Lakestar\\n672              Auriga, Galeo Ventures, Highland Europe\\n673         LocalGlobe, Balderton Capital, Target Global\\n674    Thrive Capital, Khosla Ventures, Tiger Global ...\\n675             Zeev Ventures, Group11, Chicago Ventures\\n676    China Culture Industrial Investment Fund, We C...\\n677    Tiger Global Management, Tiger Brokers, DCM Ve...\\n678    Pritzker Group Venture Capital, Accel, Hyde Pa...\\n679                       Glory Ventures, Maniv Mobility\\n680    GGV Capital, Lightspeed Venture Partners, ICON...\\n681    Polychain Capital, Coinbase Ventures, Jump Cap...\\n682    500 Global, Rakuten Ventures, Golden Gate Vent...\\n683    Sequoia Capital India, Rocketship.vc, Lightspe...\\n684    8VC, Norwest Venture Partners, Tiger Global Ma...\\n685                HV Capital, Softbank Group, BlackRock\\n686    Intact Ventures, Munich Re Ventures, General A...\\n687    M13, Lightspeed Venture Partners, Lone Pine Ca...\\n688            Mangrove Capital Partners,14W. ForgeLight\\n689    Khosla Ventures, General Catalyst, Blumberg Ca...\\n690    Beijing Juneng Hesheng Industry Investment Fun...\\n691    Shenzhen Capital Group, Robert Bosch Venture C...\\n692    QF Capital, QC Capital, Unicom Innovation Vent...\\n693           Goldman Sachs, Leonardo DiCaprio, Promecap\\n694                             Inflexion Private Equity\\n695    SAIF Partners India, Warburg Pincus, Trifecta ...\\n696    Sequoia Capital China, Rich Land Capital, Merr...\\n697    New Enterprise Associates, Greylock Partners, ...\\n698    Lightspeed China Partners, Baidu Ventures, Qim...\\n699    GM Ventures, VentureSouth, Kleiner Perkins Cau...\\n700    FundersClub, Y Combinator, Tiger Global Manage...\\n701         Founders Fund, Upfront Ventures, 01 Advisors\\n702    Bain Capital Tech Opportunities, Andreessen Ho...\\n703    Lindeman Asia Investment, Nichi-Iko Pharmaceut...\\n704                  Intel Capital, Aviv Venture Capital\\n705    Sequoia Capital China, Gopher Asset Management...\\n706    Accel Partners, Greylock Partners, Lowercase C...\\n707              SoftBankGroup, Blackrock, Alibaba Group\\n708      Matrix Partners, Passport Capital, Rho Ventures\\n709    Kleiner Perkins Caufield & Byers, Softbank Cor...\\n710                                                  NaN\\n711               Silver Lake Partners, General Atlantic\\n712    Banyan Capital, New Horizon Capital, IDG Capit...\\n713              5Y Capital, Matrix Partners China, K2VC\\n714    Matrix Partners China, Ventech China, Shunwei ...\\n715                       Woodford Investment Management\\n716    IDG Capital, Northern Light Venture Capital, D...\\n717    Accel Partners, Comcast Ventures, General Atla...\\n718         Sequoia Capital China, ZhenFund, K2 Ventures\\n719                KKR, Alibaba Group, Ping An Insurance\\n720              SAIF Partners China, Baidu, IDG Capital\\n721       China Minsheng Investment, Baidu, Wanxin Media\\n722    QiMing Venture Partners, Temasek Holdings, Sil...\\n723                                        Hinduja Group\\n724                                     Tencent, Vcanbio\\n725    Goldman Sachs, Insights Venture Partners, Prit...\\n726         Berkshire Partners, Norwest Venture Partners\\n727    Sequoia Capital China, SIG Asia Investments, Z...\\n728                             58.com, Tencent Holdings\\n729       Warburg Pincus, Summit Partners, Sands Capital\\n730      K2 Ventures, Matrix Partners China, IDG Capital\\n731    Standard Chartered, FinSight Ventures, Affirma...\\n732          Blue Label Telecoms, Net1 UEPS Technologies\\n733                         Co-Energy Finance, Grandland\\n734                              K2 Global, 500 Startups\\n735    Sequoia Capital China, ING, Alibaba Entreprene...\\n736    Morningside Venture Capital, IDG Capital, DCM ...\\n737                       Tencent Holdings, DCM Ventures\\n738    R-Z Capital, Green Pine Capital Partners, SAIF...\\n739                                       Ginko Ventures\\n740    Fosun RZ Capital, Oceanwide Holdings, Shenzhen...\\n741    V Star Capital, GF Xinde Investment Management...\\n742    China Investment Corporation, New Enterprise A...\\n743    Silicon Valley Bank, QED Investors, European F...\\n744    Innova Capital - FIP, 3G Capital Management, P...\\n745    Sequoia Capital China, InnoVision Capital, Qia...\\n746                            One Luxury Group, Eurazeo\\n747    Qiming Venture Partners, China Broadband Capit...\\n748    China Health Industry Investment Fund, China R...\\n749    Prometheus Capital, Matrix Partners China, JD ...\\n750     New Enterprise Associates, Pear, Cowboy Ventures\\n751    Yunfeng Capital, SDIC Innovation Investment Ma...\\n752                                 GCP Capital Partners\\n753    Sinovation Ventures, Tencent Holdings, Sequoia...\\n754    U.S.-China Green Fund, Founder H Fund, Richlan...\\n755    Lakestar, Battery Ventures, New Enterprise Ass...\\n756       China Everbright Limited, IDG Capital, iFLYTEK\\n757    Georgian Co-Investment Fund, iTech Capital, Ga...\\n758                            Movile, Just Eat, Naspers\\n759    Volcanics Ventures, Vertex Ventures China, War...\\n760    Target Global, UBS Asset Management, Mubadala ...\\n761                                       SoftBank Group\\n762    Astanor Ventures, Upfront Ventures, IDInvest P...\\n763     BOC International, TopoScend Capital, Hongxiu VC\\n764          JAFCO Co, Bitmain Technologies, IDG Capital\\n765    DST Global, Sequoia Capital China, Gaorong Cap...\\n766    Trinity Ventures, Fifth Wall Ventures, OpenVie...\\n767                             China Prosperity Capital\\n768      TAL Education Group, Legend Star, Alibaba Group\\n769       SBI Investment Korea, Partners Investment, GIC\\n770    Aglae Ventures, Global Founders Capital, Alven...\\n771    American Express Ventures, Goldman Sachs, Bain...\\n772    Koch Disruptive Technologies, Teamworthy Ventu...\\n773    Union Square Ventures, Summerhill Venture Part...\\n774          Investment Corporation of Dubai, Centralway\\n775       Section 32, SV Angel, Norwest Venture Partners\\n776                                FTV Capital, Endeavor\\n777    Matrix Partners China, Bright Venture Capita, ...\\n778          IDInvest Partners, Seaya Ventures, Lakestar\\n779    Jackson Square Ventures, Greenoaks Capital Man...\\n780                                                  KKR\\n781    Technology Crossover Ventures, Alkeon Capital ...\\n782                     OLX Group, KCK Group, EXOR Seeds\\n783    Union Square Ventures, Altos Ventures, Costano...\\n784    Lightspeed Venture Partners, Data Collective, 8VC\\n785          JOY Capital, NIO Capital, Blueflame Capital\\n786                                  One Equity Partners\\n787      Novator Partners, True, Causeway Media Partners\\n788    Sozo Ventures, Caffeinated Capital, Sequoia Ca...\\n789    Bain Capital, Altos Ventures, Songhyun Investment\\n790        MMC Ventures, BGF Ventures, Unilever Ventures\\n791    CICC ALPHA, Chengwei Capital, Sinovation Ventures\\n792      WRVI Capital, Caffeinated Capital, Y Combinator\\n793         8VC, Menlo Ventures, Tiger Global Management\\n794    Falcon Edge Capital, Omidyar Network, Sequoia ...\\n795    Lightspeed Venture Partners, Redpoint Ventures...\\n796              Insight Partners, Bain Capital Ventures\\n797            IDG Capital, Francisco Partners, ZhenFund\\n798    Flybridge Capital Partners, SoftBank Group, Mo...\\n799        Wellington Management, Eurazeo, Citi Ventures\\n800    Storm Ventures, DFJ DragonFund, New Enterprise...\\n801    Bessemer Venture Partners, Pitango Venture Cap...\\n802            SCB 10X, Krungsri Finnovate, eWTP Capital\\n803    C5 Capital, Hemisphere Ventures, The Venture C...\\n804    Scale Venture Partners, Bond, Tiger Global Man...\\n805               CRV, Y Combinator, Initialized Capital\\n806               New Enterprise Associates, Accel, Bond\\n807      Bojiang Capital, Hongdao Capital, Mobai Capital\\n808    Andreessen Horowitz, Andreessen Horowitz, Inst...\\n809    Owl Ventures, Technology Crossover Ventures, T...\\n810    Green Visor Capital, CRE Venture Capital, Grey...\\n811       TLV Partners, Lightspeed Venture Partners, M12\\n812    Sequoia Capital China, Shunwei Capital Partner...\\n813     B Capital Group,, GE Ventures, McKesson Ventures\\n814    GreatPoint Ventures, Tiger Global Management, ...\\n815        Khosla Ventures, Thrive Capital, Y Combinator\\n816    Global Founders Capital, Shea Ventures, Greycroft\\n817    Matrix Partners China, Sequoia Capital China, ...\\n818    Lightspeed Venture Partners, Kleiner Perkins C...\\n819                      Greycroft, Loeb.NYC, DST Global\\n820    Yinhong Equity Investment Fund, E Fund, Ideal ...\\n821    Silverton Partners, Accel, Ballast Point Ventures\\n822    American Family Ventures, Cox Enterprises, OME...\\n823    TDK Ventures, Social Capital, D1 Capital Partners\\n824    Bertelsmann Asia Investments, Sequoia Capital ...\\n825    Pantera Capital, Cadenza Ventures, BlockTower ...\\n826    Union Square Ventures, Insight Partners, Spark...\\n827                  Tiger Global Management, Hedosophia\\n828    Thrive Capital, Durable Capital Partners, G Sq...\\n829    Smilegate Investment, DSC Investments, KTB Ven...\\n830           Accel, Cobalt Capital, Andreessen Horowitz\\n831    Eastern Bell Capital, Danhua Capital, MSA Capital\\n832       XBTO Ventures, Raven One Ventures, SK Ventures\\n833    Norwest Venture Partners, Hillsven Capital, Aleph\\n834    Griffin Gaming Partners, Andreessen Horowitz, ...\\n835    Eclipse Ventures, Fidelity Investments, Moore ...\\n836    Xingwang Investment Management, China Capital ...\\n837                  Iris Capital, Accel, Elaia Partners\\n838    Helion Venture Partners, Bain Capital Tech Opp...\\n839    Invus Group, Hanaco Venture Capital, WestCap G...\\n840              Jungle Ventures, Accel, Venture Highway\\n841        Sequoia Capital, Founders Fund, Bling Capital\\n842                                     Bregal Sagemount\\n843    Dragonfly Captial, Qiming Venture Partners, DS...\\n844    Version One Ventures, Uncork Capital, Bessemer...\\n845    Northzone Ventures, Maveron, Johnson & Johnson...\\n846    Optum Ventures, Qiming Venture Partners, Trans...\\n847    Delian Capital, China International Capital Co...\\n848    SingTel Innov8, Alpha JWC Ventures, Golden Gat...\\n849    Insight Partners, Ignition Partners, Georgian ...\\n850          Salesforce Ventures, next47, Pereg Ventures\\n851             Bessemer Venture Partners, MoreVC, Team8\\n852            Genesis Partners, Aleph, Insight Partners\\n853    Balderton Capital, Next World Capital, Draper ...\\n854    Javelin Venture Partners, TTV Capital, Peterso...\\n855    Advance Venture Partners, Susquehanna Growth E...\\n856    Foundation Capital, Summit Partners, Adams Str...\\n857    Hyde Park Venture Partners,\\\\tFundersClub. Bain...\\n858    Makers Fund, Index Ventures, Inova Ventures Pa...\\n859    Tiger Global Management, Sequoia Capital India...\\n860                  CE-Ventures, BECO Capital, Nordstar\\n861    Mundi Ventures, Doqling Capital Partners, Acti...\\n862              General Catalyst, Future Ventures, AU21\\n863       SEED Capital, Greyhound Capital, Socii Capital\\n864    Madrona Venture Group, Tiger Global Management...\\n865    Index Ventures, Sequoia Capital, General Catalyst\\n866    Foundry Group, Scale Venture Partners, SoftBan...\\n867    NetEase Capital, Northern Light Venture Capita...\\n868                                         Bain Capital\\n869                              Y Combinator, M12, SEEK\\n870    Kleiner Perkins Caufield & Byers, NightDragon ...\\n871    Accel, Sands Capital, International Finance Co...\\n872    Vertex Ventures SE Asia, Global Founders Capit...\\n873    Big Bets, General Atlantic, SOFTBANK Latin Ame...\\n874    Wing Venture Capital, Slow Ventures, Uncork Ca...\\n875    FirstMark Capital, Georgian Partners, Norwest ...\\n876    Accomplice, Oak Investment Partners, Georgian ...\\n877        Greylock Partners, Google Ventures, BlackRock\\n878        Greylock Partners, Google Ventures, BlackRock\\n879    Female Founders Fund, Oak HC/FT Partners, Sequ...\\n880            Sequoia Capital India, Kae Capital, Accel\\n881    Qualcomm Ventures, Woori Investment, Hanwha In...\\n882      Andreessen Horowitz, Homebrew, Point72 Ventures\\n883      Sequoia Capital, DCM Ventures, Insight Partners\\n884    Goldman Sachs Asset Management, SDP Investment...\\n885         Andreessen Horowitz, DST Global, IDG Capital\\n886                                 Ardian, Bain Capital\\n887    Hillhouse Capital Management, Sequoia Capital ...\\n888                GGV Capital, BlackRock, ACE & Company\\n889                            NFX, Plum Alley, Mayfield\\n890             Accomplice, Juxtapose, FirstMark Capital\\n891                          Accel, Y Combinator, Amasia\\n892       Anthemis, Connect Ventures, Northzone Ventures\\n893    Advent International, PSG, Providence Equity P...\\n894      Rembrandt Venture Partners, M12, Altos Ventures\\n895     Yunqi Partners, SoftBank Group, iVision Ventures\\n896       Tencent Holdings, Hillhouse Capital Management\\n897    B Capital Group, Monk's Hill Ventures, Dynamic...\\n898      Accel, Tiger Global Management, Omidyar Network\\n899      Sequoia Capital, Thrive Capital, Sound Ventures\\n900    Softbank Ventures Asia, Alpha JWC Ventures, In...\\n901    3one4 Capital Partners, Bertelsmann India Inve...\\n902    Left Lane Capital, Galaxy Interactive, Tru Arr...\\n903     Greylock Partners, Lux Capital, General Atlantic\\n904    True Ventures, Altimeter Capital, Redpoint Ven...\\n905            Index Ventures, IDInvest Partners, Daphni\\n906    IAG Capital Partners, Augmentum Fintech, North...\\n907    Vitruvian Partners, Merieux Equity Partners, S...\\n908       Valor Capital Group, Lightrock, Softbank Group\\n909                 Innovation Endeavors, Aleph, Temasek\\n910    Lerer Hippeau, Munich Re Ventures, Eclipse Ven...\\n911                 GGV Capital, GSR Ventures, FreesFund\\n912    Sequoia Capital China, Linear Venture, Hearst ...\\n913                                          FTV Capital\\n914           Cowboy Ventures, Leaders Fund, GGV Capital\\n915    Global Founders Capital, 468 Capital, Redalpin...\\n916    Insight Partners, AltaIR Capital, Norma Invest...\\n917                 Acero Capital, General Catalyst, M12\\n918    Equal Ventures, Uncork Capital, Andreessen Hor...\\n919    BlueRun Ventures, Grand Flight Investment, Mei...\\n920    Accel, Falcon Edge Capital, Norwest Venture Pa...\\n921    Khosla Ventures,General Catalyst, Victory Park...\\n922                   Goldman Sachs Asset Management, 3L\\n923            Index Ventures, Benchmark, Thrive Capital\\n924      Google Ventures, Cathay Innovation, NJF Capital\\n925    Paladin Capital Group, Greycroft, Scale Ventur...\\n926         General Atlantic, Elevation Capital, BEENEXT\\n927          Gunosy Capital, Blume Ventures, Das Capital\\n928    British Patient Capital, SEB Venture Capital, ...\\n929    Khosla Ventures, General Catalyst, Navitas Cap...\\n930             DST Global, General Catalyst, Monashees+\\n931    RRE Ventures+, Highland Capital Partners, The ...\\n932    Andreessen Horowitz, Intel Capital, Foundation...\\n933    Advent International, Bain Capital Ventures, S...\\n934                KKR, FTV Capital, Ten Eleven Ventures\\n935    Prysm Capital, Baillie Gifford & Co., TDM Grow...\"]\n"
     ]
    }
   ],
   "source": [
    "investors_unicos = unicornios['Investors'].unique()\n",
    "print(investors_unicos)\n"
   ]
  },
  {
   "cell_type": "code",
   "execution_count": 8,
   "metadata": {},
   "outputs": [
    {
     "name": "stdout",
     "output_type": "stream",
     "text": [
      "['', ' Next Coast Ventures...\\n576          Coatue Management', ' Alpha JWC Ventures', ' IKEA GreenTech\\n30     New Enterprise Associates', ' Tiger Global Ma...\\n685                HV Capital', ' The Rise Fund', ' General C...\\n377                      Index Ventures', ' Google Ventures\\n601                        Trane Technologies', ' Ondine Capital\\n581    Kaszek Ventures', ' Foundation Capital\\n329    Pantera Capital', ' Salesforce...\\n625    Cherry Ventures', ' Capital Today', ' Khosla Ventures', ' Lightspeed Venture Partners...\\n168              Accel', '0      Sequoia Capital China', ' Kinnevik\\n445              Stripe', ' Lowercase C...\\n707              SoftBankGroup', ' Capital Today\\n577               N5 Capital', ' Otter Rock Capital', '\\\\tFundersClub. Bain...\\n858    Makers Fund', ' China Capital ...\\n837                  Iris Capital', ' Temasek', ' General Catalyst\\n297                          CRV', ' Sequoia Capit...\\n490    Source Code Capital', ' BECO Capital', ' VY Capital\\n204    Oriza Holdings', ' BlackRock\\n686    Intact Ventures', ' Greycroft\\n512                 VGames', ' IDG Capital\\n765    DST Global', ' North Bridge Growth Equity\\n45     Bessemer Venture Partners', ' Storm Ventures\\n324    Knox Lane', ' Trans...\\n847    Delian Capital', ' August Capital\\n351    Sequoia Capital China', ' GoldenTree Asse...\\n522                          PSG', ' Gron Ventures', ' Google Ventures\\n259    83North', ' Blume Ventures', ' enaya ...\\n464          Mayfield Fund', ' TMT Investments\\n142    Threshold Ventures', ' TopoScend Capital', ' Dell ...\\n183    Upfront Ventures', ' Trifecta Capital', ' Redpoint Ven...\\n102        Nexus Venture Partners', ' CSC Group\\n526                              Baidu', ' Grey...\\n811       TLV Partners', ' Hillsven Capital', ' Horizons Ventures', ' Bertelsmann India Inve...\\n902    Left Lane Capital', ' Vostok New Vent...\\n486    Alibaba Group', ' capitalG\\n131                   Y Combinator', ' Alkeon Capital Management', ' Future Perfect Ventures', ' Qatar Investment Authority', ' Munich Re Ventures', ' Lightrock', \" Monk's Hill Ventures\", ' Golden Gat...\\n849    Insight Partners', ' Andalusian Capital Partners\\n126    Venture Highway', ' Andreessen ...\\n612    Georgian Partners', ' Geekdom Fund\\n451            Index Ventures', ' QC Capital', ' DCM ...\\n737                       Tencent Holdings', ' Two Sigma ...\\n189    Andreessen Horowitz', ' Cit...\\n440    Alta Partners', ' GS Growth\\n81                         Technology Crossover Ventures\\n82     Initialized Capital', ' Prit...\\n726         Berkshire Partners', ' T. ...\\n133    Telling Telecommunication Holding Co.', ' Viking Global Investors', ' Google Ventures\\n584    Lightspeed Venture Partners', ' Struck Capital', ' Cathay Innovation', ' Hedosophia', ' Russia-China Inv...\\n156                     SoftBank Group', ' Inst...\\n809    Owl Ventures', ' WestCap Group\\n128    Andreessen Horowitz', ' Ignition Partners', ' Chuanrong Capital\\n589    Dark Horse Technology Group', ' CreditEa...\\n228                                 CPP Investment Board\\n229      General Catalyst', ' Tencent\\n14     Hillhouse Capital Management', ' Mat...\\n5      Khosla Ventures', \" Hillhouse Capital Manag...\\n638    L'Occitane\", ' Social Capital', ' Insight Partners\\n291    Coatue Managemeny', ' Expedi...\\n227    Morningside Ventures', ' Foun...\\n359    Sequoia Capital China', ' BlackRock', ' Upfront Ventures', ' Xing...\\n481    Alibaba Group', ' Re...\\n394                  Ignition Partners', ' Greenoaks Capital Man...\\n780                                                  KKR\\n781    Technology Crossover Ventures', ' Norwest Venture Pa...\\n921    Khosla Ventures', ' Andree...\\n393    Sequoia Capital China', ' Asset Manag...\\n333    Zhangjiang Haocheng Venture Capital', ' Qim...\\n699    GM Ventures', ' Citi Ventures', ' Ant...\\n583    SignalFire', ' Sands Capital\\n730      K2 Ventures', ' Index Vent...\\n565    Kleiner Perkins Caufield & Byers', ' Costano...\\n784    Lightspeed Venture Partners', ' OM...\\n249    Jackson Square Ventures', ' Hony Capital', ' ...\\n698    Lightspeed China Partners', ' AME Cloud Ventures', ' Comcast Ventures', ' Shunwei Capital Partner...\\n813     B Capital Group', ' Ayala Corpor...\\n406     K9 Ventures', ' NXC\\n313     V FUND', ' Prosus...\\n127    Oak HC/FT Partners', ' Unternehmertum Venture C...\\n233                 Benchmark', ' Cedarlake Capital', ' Meritech Capital Partners...\\n469           Technology Crossover Ventures', ' Foundation...\\n933    Advent International', ' IDG Capital\\n456                   Cybernaut Growth Fund', ' AME Cloud Ventures\\n621    Version One Ventures', ' DCM Ve...\\n678    Pritzker Group Venture Capital', ' Sound Ve...\\n361    Insight Partners', ' Draft Ventures', ' Index Ve...\\n593    Sequoia Capital China', ' Founder H Fund', ' Scale Ventur...\\n926         General Atlantic', ' Goldman Sachs\\n315    Revolution', ' Canapi Ventures\\n319    Madrona Venture Group', ' Gaoro...\\n92     Pine Brook', ' JD Digits\\n578    M12', ' Spark Capital\\n301    Shunwei Capital Partners', ' Vintage Investment ...\\n545    Sequoia Capital India', ' SOSV', ' Alibaba ...\\n27                               Tiger Global Management\\n28     Coatue Management', ' China Media Group', ' Homebrew\\n11                Sequoia Capital', ' Juxtapose', ' Valar Ventures\\n549    Sierra Ventures', ' Georgian ...\\n877        Greylock Partners', ' ...\\n929    Khosla Ventures', ' 3i Group', ' Tencent...\\n491                                       SoftBank Group\\n492    New Enterprise Associates', ' Se...\\n15     SoftBank Group', '14W. ForgeLight\\n689    Khosla Ventures', ' Canaan Partners\\n272    Sequoia Capital', ' Casdin Capital', ' Bain Capital Tech Opp...\\n839    Invus Group', ' Quiet Capital\\n401    Obvious Ventures', ' Sequoia Capital ...\\n888                GGV Capital', ' Samsung Ventures', ' Silver Lake', ' Venrock\\n371                                           Blackstone\\n372    Jerusalem Venture Partners', ' Accel\\n658              Dynamo VC', ' Venrock\\n24     Khosla Ventures', ' Route 66 Ventures', ' Glob...\\n348    Runa Capital', ' Draper ...\\n854    Javelin Venture Partners', ' Team8\\n852            Genesis Partners', ' Nexus Venture Partners', ' Canaan Partners', ' Kleiner Perkins Caufield & By...\\n6      Andreessen Horowitz', ' Piton Capital', ' Mayfield Fund\\n567                                        Goldman Sachs\\n568    Advantech Capital', ' Inv...\\n620     IA Ventures', ' s28 Capital', ' CMB International Capital', ' New H...\\n219                    Playground Global', ' Redpoint e.ventures', ' CRV\\n161    Dragoneer Investment Group', ' Insight Partners', ' Jinhui Xingye\\n660    Draper Fisher Jurtson', ' Gaorong Cap...\\n766    Trinity Ventures', ' Goldcrest Capital', ' Sunstone Capital\\n666                 Ardian', ' SDP Investment...\\n885         Andreessen Horowitz', ' Bessemer Venture Partners\\n234      Sequoia Capital India', ' Comcast Vent...\\n566        MHS Capital', ' Norwest Venture Partners', ' Northern Light Venture Capital', ' Teamworthy Ventu...\\n773    Union Square Ventures', ' So...\\n266     Insight Partners', ' Tiger Global Management...\\n865    Index Ventures', 'Crosslink Capital\\n474    Initialized Capital', ' B...\\n217     Third Point', ' Max Ventures', ' Banyan Capital\\n335              8VC', ' 8VC', ' S...\\n1      Founders Fund', ' BoxGroup', ' The ...\\n932    Andreessen Horowitz', ' PUC\\n240    Silversmith Capital Partners', ' Flybridge Capital...\\n308    T. Rowe Price', ' Sino-Ocean ...\\n528                              Taigang Venture Capital\\n529                                     General Atlantic\\n530                      Sodexo Ventures', ' BA ...\\n47     Redalpine Venture Partners', ' Caffeinated Capital', ' Venrock', ' FinSight Ventures', ' Group11', ' Bain Capital Ventures\\n797            IDG Capital', ' General Atlantic\\n904    True Ventures', ' Pantera Capital\\n410    Andreessen Horowitz', ' Lightspeed China Partners', ' Artis Ventures', ' Alibaba Group', ' Insight Partners\\n646    Sequoia Capital China', ' BlackRock\\n878        Greylock Partners', ' Bling Capital\\n842                                     Bregal Sagemount\\n843    Dragonfly Captial', ' Shenzhen ...\\n477    Centurium Capital', ' Scale Venture...\\n592    First Round Capital', ' Loeb.NYC', ' Google...\\n273    Dell Technologies Capital', ' Can...\\n563       Menlo Ventures', ' Index...\\n22     General Catalyst', ' Danhua Capital', ' Linear Venture', ' Insight Partners\\n103    Matrix Partners', ' Oceanwide Holdings', ' Initialized Capital\\n806               New Enterprise Associates', ' Storm Ventures', ' New Horizon Capital', ' SAIF Partners', ' GGV Capital', ' Grand Flight Investment', ' Redpoint Ven...\\n905            Index Ventures', ' TPG Growth', ' Goog...\\n493    Jackson Square Ventures', ' Bat...\\n514     Coatue Management', ' Longfor Capitalm', ' F-Prime Capital', ' Bain Capital Ventures', ' Benhcmark', ' Accel\\n57     SoftBank Group', ' Hanwha In...\\n882      Andreessen Horowitz', '...\\n192                                            Kuang-Chi\\n193    Fairfax Financial Holdings', ' Institutional Venture Par...\\n608                                                  ICG\\n609    Madrona Venture Group', ' Index Ventures\\n543                             EQT Partners', ' Chicago Ventures\\n624    Costanoa Ventures', ' dmg ventures\\n408             ClalTech', ' True Ventures', ' Uncork Capital', ' Raven One Ventures', ' Lakestar\\n672              Auriga', ' Sequoia Capita...\\n4      Sequoia Capital China', ' ICONIQ Growth', ' Alum...\\n597                 Dila Capital', ' Pitango Venture C...\\n260    Bnk To The Future', ' 14W\\n496    Rubicon Technology Partners', ' Wing Venture ...\\n182    Norwest Venture Partners', ' NJF Capital\\n925    Paladin Capital Group', ' China Broadband Capit...\\n748    China Health Industry Investment Fund', ' Prosus Ventures', ' Revolution...\\n129      Greylock Partners', ' ZhenFund\\n400          Benchmark', ' Google\\n537       Phoenix New Media', ' Almaz Capital Par...\\n405    Insight Partners', ' Redpoint Ventures...\\n796              Insight Partners', ' Obvious Ventures', ' K2 Ventures\\n719                KKR', ' D1 Capital Partners\\n824    Bertelsmann Asia Investments', ' Susa Ventures', ' Thrive Capital', ' Sound Ve...\\n535    New Enterprise Associates', ' Vision Plus Capital\\n287           Foundry Group', ' Greycroft\\n642                                         CDIB Capital\\n643    Qiming Venture Partners', ' Sound Ventures\\n900    Softbank Ventures Asia', ' Sequoia...\\n505    Redpoint Ventures', ' Shenzhen...\\n741    V Star Capital', ' Lightbox Ventures', ' IA Ventures\\n564    Marchmont Ventures', ' Balderton Capital', ' The Venture C...\\n804    Scale Venture Partners', ' Revo...\\n68     Lightspeed Venture Partners', ' DCM ...\\n561    Lightspeed Venture Partners', ' Portag3 Ventures\\n452        Salesforce Ventures', ' Qatar Holding\\n558     DESUN Capital', ' Rakuten\\n539     Eastern Bell Capital', ' Forerunner Ventures', ' HOF Capital', ' Dell Technologies Capital', ' Alliance Consumer Growth', ' Moore ...\\n836    Xingwang Investment Management', ' SoftBa...\\n385        Qualcomm Ventures', ' Tianjin Haihe Industry Fund\\n538          Seaya Ventures', ' Highland Europe', ' New Enterpris...\\n79     Sequoia Capital China', ' Kerala Ventures', ' Energy Impact Partners', ' TTV Capital', ' NextView Ventures', ' Quadrille Ca...\\n628    Newpath Partners', ' Softbank\\n293    Accel', ' Accel\\n148    Lightspeed Venture Partners', ' Kleiner Per...\\n83       Accel Partners', ' Temasek Holdings', ' Salesf...\\n320           Temasek', ' Acti...\\n862              General Catalyst', ' Bai...\\n368    Matrix Partners China', ' DST Global\\n176                         Y Combinator', ' Activant Capital', ' GIC\\n770    Aglae Ventures', ' New Enterprise...\\n277    General Atlantic', ' Inc...\\n497    Moonshots Capital', ' DCM Ventures\\n738    R-Z Capital', ' DFJ DragonFund', ' Global Founders Capit...\\n873    Big Bets', ' Victory Park...\\n922                   Goldman Sachs Asset Management', ' Vast V...\\n426    Google Ventures', ' Bond', ' Stripe', ' Questa Capital', ' Susquehanna Grow...\\n241    Cambridge Innovation Capital', ' Bank Of China Group Investment', ' Cowboy Ventures\\n751    Yunfeng Capital', ' Sapphire Ven...\\n449    Nexus Venture Partners', ' Technology Cros...\\n519    Insight Partners', ' Monashees+\\n931    RRE Ventures+', ' Bloomberg ...\\n248    Capital One Growth Ventures', ' Lerer Hippeau', ' Data ...\\n245    India Quotient', ' Scentan Ventures', ' Tencent Holdings', ' Tencent Holdings\\n78     General Atlantic', ' SciF...\\n392    Upfront Ventures', ' Songhyun Investment\\n790        MMC Ventures', ' Crowdcube\\n599    Tencent Holdings', ' Target Global\\n674    Thrive Capital', ' Valar Ventures', ' M12\\n918    Equal Ventures', ' Valor Capital Group', ' Norwest Ve...\\n630            Qualcomm Ventures', ' Diamler', ' Blackrock', ' Tiger Global Management\\n509    Felicis Ventures', ' IDG Capit...\\n713              5Y Capital', ' ...\\n778          IDInvest Partners', ' Next World Capital', ' T...\\n810    Green Visor Capital', ' DST Global\\n332    Sierra Ventures', ' SAIF...\\n739                                       Ginko Ventures\\n740    Fosun RZ Capital', ' Commerce Ve...\\n138    Passion Capital', ' Perpetu...\\n636    Accel', ' Blackbird Ve...\\n510    Insight Partners', ' D1 ...\\n184     Qualcomm Ventures', ' AltaIR Capital', ' Falcon Edge Capital', ' Ga...\\n758                            Movile', ' Boyu Capital', ' Tiger Global Manage...\\n701         Founders Fund', ' General...\\n80              TA Associates', ' PayPal Ventures\\n235    Artiman Ventures', ' STO Express\\n540           Orange Digital Ventures', ' Mountain Nazca\\n56            BOLDstart Ventures', ' Richlan...\\n755    Lakestar', ' Astral Capital\\n49           Vattenfall', ' Alaska Permanent Fund', ' Work-Bench', ' Bessemer Venture Partners\\n586           FirstMark Capital', ' China Development Bank C...\\n114            Ant Financial Services Group', ' ...\\n815        Khosla Ventures', ' Tencent Holdings...\\n645       Accel', ' GF Investments', ' Redpoint Ve...\\n101    Battery Ventures', ' ICON...\\n223            Kaszek Ventures', ' iVision Ventures\\n896       Tencent Holdings', ' Charoen Pokphand Group', ' Ridge Ventures\\n669                                    The Carlyle Group\\n670       Caffeinated Capital', ' Accel\\n554    BlackRock', ' Benchmark\\n356    Andreessen Horowitz', ' Hillhouse Capital Management...\\n35     MindWorks Ventures', ' Draper Esprit', ' Clockt...\\n473      Zeev Ventures', ' Ally Bridge Group\\n570    BlueCross BlueShield Venture Partners', ' LGT Capital Part...\\n242    Spectrum Equity', ' Crosslink Capital', ' China Construction Bank...\\n360    Insight Venture Partners', ' General Catalyst\\n321          Summit Partners', ' Felicis Ventures\\n42     Upper90', ' Greycroft', ' IDG Capital\\n17                       Accel Partners', ' Sound Ventures', '...\\n463    Sequoia Capital', ' Lig...\\n250    Lightspeed Venture Partners', ' Blumberg Ca...\\n690    Beijing Juneng Hesheng Industry Investment Fun...\\n691    Shenzhen Capital Group', ' General Atla...\\n718         Sequoia Capital China', ' New Enterprise A...\\n743    Silicon Valley Bank', ' Linear Venture\\n365    Magma Venture Partners', ' Coatue Management', ' Accel\\n378    Meritech Capital Partners', ' IDInvest Partners', ' Tiger Global Management...\\n237    Sequoia Capital Israel', ' SignalFire\\n121           General Atlantic', ' Mobai Capital\\n808    Andreessen Horowitz', ' OME...\\n823    TDK Ventures', ' A...\\n396    Accel', ' Tiger Global Management\\n587      Mitsubishi Corporation', ' Eniac Ventures', ' CVF Capital Partners', ' Index Ventures', ' Skip Capital\\n389                                        A&NN', ' Index Ventures\\n383                                          Undisclosed\\n384    Alta Ventures Mexico', ' Outrun Ventures\\n595    Andreessen Horowitz', ' Fifty Y...\\n553     Insight Partners', ' Krungsri Finnovate', ' GGV C...\\n231    Times Internet', ' Co...\\n153    Tiger Global Management', ' Standard Crypto\\n254    WestCap Group', ' Seaya Ventures', ' Hearst ...\\n913                                          FTV Capital\\n914           Cowboy Ventures', ' HarbourVest Par...\\n295    Aspect Ventures', ' Alibaba...\\n134    Accel', ' IDG Capital\\n721       China Minsheng Investment', ' TVS ...\\n194                     General Catalyst', ' 5Y Capital', ' Qualcomm Ventures\\n32     Aviation Industry Corporation of China', ' Spark Capital', ' Early...\\n404    Lightspeed Venture Partners', ' Goldstone Investments', ' Promus Ventures', ' McKesson Ventures\\n814    GreatPoint Ventures', ' Kleiner Perkins Caufi...\\n375    Highland Capital Partners', ' Digital Currency Group', ' Summerhill Venture Part...\\n774          Investment Corporation of Dubai', ' Softbank Group', ' Kleiner Perkins Caufiel...\\n610     Andreessen Horowitz', ' UBS Asset Management', ' Ti...\\n439    Menlo Ventures', ' Revolution Growth', ' Lone Pine Ca...\\n688            Mangrove Capital Partners', ' Merieux Equity Partners', ' Greylock Partners', '...\\n376    Tomales Bay Capital', ' Summit P...\\n345    Lightspeed Venture Partners', ' Craft Ventures\\n171       Benchmark', ' Oak Investment Partners', ' Blackstone\\n544    Bessemer Venture Partners', ' Lakestar\\n779    Jackson Square Ventures', ' Highland Capital Partners', ' Softbank', ' N...\\n187                          Silver Lake', ' BlackRock\\n220    Dragoneer Investment Group', ' BMW i Ventures', ' General Atlantic\\n95     NextView Ventures', ' ES Ventures', ' Qiming Ventur...\\n209    Andreessen Horowitz', ' Redalpin...\\n916    Insight Partners', ' QED Investors', ' Leonardo DiCaprio', ' True', ' Matrix Partners', ' Ignition Part...\\n270         Goodwater Capital', ' Coat...\\n546    Greylock Partners', ' Bessemer Venture...\\n639    Craft Ventures', ' Uniqa Ventures\\n152    New Enterprise Associates', ' Sequoia C...\\n154                                          Formation 8\\n155    Ant Financial Services Group', \" O'Reilly AlphaTech Venture...\\n326                                     General Atlantic\\n327                                      Sequoia Capital\\n328              Expa\", ' Innovation Endeavors', ' Y Combinator\\n816    Global Founders Capital', ' Vintage In...\\n278    HD Capital', ' Felicis Ventures\\n657                   BPI France', ' Founders Fund', ' Greenoaks Capital M...\\n397             Rethink Impact', ' JOY Capital\\n489    Legend Capital', ' Alib...\\n661               Mithril', ' D1 Capital Partners', ' Wonder Vent...\\n516    Ant Group', ' Uncork Ca...\\n875    FirstMark Capital', ' Y Combinator\\n793         8VC', ' Nordstar\\n861    Mundi Ventures', ' Baidu Ventures', ' T...\\n655     Venrock', ' Founders Fund\\n650    Qiming Venture Partners', ' Temasek H...\\n357    Toyota Motor Corporation', ' Genesis Partners', ' DST Global\\n252    SoftBank Group', ' SoftBank Group\\n112                                        Credit Suisse\\n113    China Life Insurance', ' NightDragon ...\\n871    Accel', ' Warbug Pincus', ' Felix Capital\\n196    Two Sigma Ventures', ' Highl...\\n65     Union Square Ventures', ' Sinov...\\n137    Two Sigma Ventures', ' Susquehanna Growth E...\\n856    Foundation Capital', ' OrbiMed Advisors', ' L Catterton\\n465    Thrive Capital', ' Foundry Group\\n662    Tiantu Capital', ' Drive Capital\\n534    Initialized Capital', ' Temasek Ho...\\n158    New Enterprise Associates', ' Tiger Globa...\\n468    GreatPoint Ventures', ' General ...\\n104     Sequoia Capital China', ' SF Holding Co', ' Gaorong Cap...\\n58     Sutter Hill Ventures', ' Causeway Media Partners\\n788    Sozo Ventures', ' Sequoia Capital China\\n62     Kaalari Capital', ' Insight Ventur...\\n353    Delphi Automotive', ' BlackRock\\n879    Female Founders Fund', ' Goldman Sachs', ' H...\\n369            Blackrock', ' Prosus Ventures\\n634    Pantera Capital', ' Baseline Ventures', ' Legend C...\\n604            Cool Japan Fund', ' SoftBank Group\\n531    Left Lane Capital', ' Lightspeed Venture Partners', ' Vertex Ventures China', '...\\n506    Andreessen Horowitz', ' New Enterprise Associates', ' Tribe Capital\\n146    Sequoia Capital China', ' Eight Roads Venture...\\n454                                             Carsales\\n455      Boxin Capital', ' Advent International\\n43              Ribbit Capital', ' IDG Capital\\n457        Yabeo Capital', ' Sofinnova Partners\\n322       Softbank Group', ' Lightspeed India Partners', ' Alexandria Venture Invest...\\n623    Emergence Capital Partners', ' Flint Capital', ' SAIF Partners India', ' Nichi-Iko Pharmaceut...\\n704                  Intel Capital', ' Goldman Sachs\\n50       Andreessen Horowitz', ' Technolog...\\n467    Blackbird Ventures', ' Sequoia Capital ...\\n825    Pantera Capital', ' Daphni\\n906    IAG Capital Partners', ' Intel Capital', ' Delta Capital', ' Genera...\\n363    Nexus Venture Partners', ' Greylock Part...\\n296                     Warburg Pincus', ' DC T...\\n573                                          Undisclosed\\n574    York Capital Management', ' Foundation Capital', ' Benchmark', ' Blackbird Ventures', ' Kaszek V...\\n9                  Tencent Holdings', ' ...\\n149                                      Sequoia Capital\\n150    Venrock', ' CMC Capital Partners', ' Volkswagen Group', ' Connect Ventures', ' GGV Capital\\n115    Accel India', ' Aker\\n470    March Capital Partners', ' Maverick Ventures', ' P...\\n424        Founders Fund', ' First Round Cap...\\n213    Thrive Capital', ' IndexVentures', ' SoftBa...\\n232    Holtzbrinck Ventures', ' Data Collective', ' Bertelsmann I...\\n216    AME Cloud Ventures', ' General Catalyst...\\n275            Greylock Partners', ' Tiger Global ...\\n495         Max Ventures', ' KKR', ' Scale Venture Partners...\\n238            ICONIQ Capital', ' Daphni\\n215    Sequoia Capital India', ' Softbank Group\\n909                 Innovation Endeavors', ' HCA Healthcare\\n195               Elaia Partners', ' Sequoia Capital\\n172    Blackrock', ' Coltrane Asset Management', ' European F...\\n744    Innova Capital - FIP', ' Kleiner Perkins C...\\n819                      Greycroft', ' Hopu Investment M...\\n590    Insight Venture Partners', ' Sapphire Ventures...\\n346    GSR Ventures', ' Tian...\\n569             ARCH Venture Partners', ' Meritech Capital Par...\\n637    Sequoia Capital India', ' Sky9 Capital\\n418    Point72 Ventures', ' Founders Fund\\n515    Y Combinator', ' First Round Capital', ' Legend Capital', ' Xiaomi', ' Galaxy Interactive\\n513    Scale Venture Partners', ' Owl Ventures', ' Y Combinator\\n276    Institutional Venture Partners', ' Baillie Gifford & Co.', ' Lightspeed V...\\n499       Sequoia Capital', ' Tiger Global Manage...\\n379              Sequoia Capital', ' Imag...\\n466    OMERS Private Equity', ' General Atlantic\\n179    Tiger Global Management', ' S...\\n13                        GGV Capital', ' Lightspeed Venture Par...\\n37     Index Ventures', ' Lightspeed Venture Partne...\\n75     Morgan Creek Digital', ' H Capital', ' Essenc...\\n33                                        Accel', ' Oryzn Capital\\n409           Sequoia Capital', ' Dragoneer Investment Group', ' Group 11\\n60     New Enterprise Associates', ' ...\\n562    Bessemer Venture Partners', ' ICONIQ Capital', ' Holtzbrinck Ve...\\n555    Simon Equity Partners', ' capitalG', ' Peterso...\\n855    Advance Venture Partners', ' Just Eat', ' Avenir Gro...\\n433          YL Ventures', ' Valiant C...\\n340    Foundation Capital', ' Inspiration Ventures', ' American Express Ventures', ' Bling Capital', ' American Express Vent...\\n180    Casa Verde Capital', ' Lightspeed ...\\n246    Balderton Capital', ' Ajinomoto\\n476    Guozhong Venture Capital Management', ' Robert Bosch Venture C...\\n692    QF Capital', ' Polychain Capital', ' Tos...\\n125        Insight Partners', ' Goldm...\\n151          Speedinvest', ' Lenovo Capital and Incu...\\n619    SWaN & Legend Ventures', ' Socii Capital\\n864    Madrona Venture Group', ' Alibaba Entreprene...\\n736    Morningside Venture Capital', ' General Catalyst', ' Sequoia Capital India...\\n421                    Automobile Industry Guidance Fund\\n422              The Carlyle Group', ' Aviv Venture Capital\\n705    Sequoia Capital China', ' Aleph\\n503    Source Code Capital', ' T...\\n594         Passion Capital', '...\\n61          KKR', ' Ribbit Capital\\n8      Sequoia Capital', ' China International Capital Co...\\n848    SingTel Innov8', ' QED Investors\\n265    Matrix Partners India', ' Andreessen Horowitz', ' Connect Vent...\\n520    Insight Partners', ' Norwest Venture Partners\\n727    Sequoia Capital China', ' DST Global\\n820    Yinhong Equity Investment Fund', ' Partech Partners\\n283    Redpoint Ventures', ' Galaxy Interactive', ' RiverPark Ventures', ' Providence Equity Partners', ' Dell Technologies...\\n585            Social Capital', ' BlockTower ...\\n826    Union Square Ventures', ' Index Ventures\\n94     Activant Capital', ' ARCH Venture Pa...\\n420    Tiger Global Management', ' Transamerica Ventures', ' IA Ventures', ' DCM Ventures\\n105                       Founders Fund. Accel', ' Softbank Group\\n44          KKR', ' Tengelmann Ventures', ' DCM Ve...\\n504    Andreessen Horowitz', ' Qiming...\\n140                 Mayfield Fund', ' SoftBank Group\\n145               Playground Global', ' GLP Capital Partners\\n412    Khosla Ventures', ' Sequoia Cap...\\n96            Alibaba Group', ' Rocketship.vc', ' T. Rowe Price\\n132    General Catalyst', ' General A...\\n687    M13', ' General Catalyst\\n85     New Enterprise Associates', ' D1 Capita Partners', ' Norwest ...\\n876    Accomplice', ' Thoma Bravo', ' Lightspeed ...\\n557                       Summit Partners', ' Ten Eleven Ventures\\n935    Prysm Capital', ' Institutional Ventu...\\n67     Tiger Global Management', ' P...\\n745    Sequoia Capital China', ' Sutter Hill Venture...\\n207          Greycroft', ' Creandum\\n338    Plug and Play Ventures', ' Stripes Group\\n64     Sixth Street Partners', ' Jum...\\n257    Tiger Global Management', ' Thrive C...\\n596    Javelin Venture Partners', ' SoftBank Group', ' Partners Investment', ' Coinbase Ventures', ' Index Ventures\\n72            Volkswagen Group', ' Tencent Holdings\\n527    Ding Xiang Capital', ' Canaan Partners\\n631            Qualcomm Ventures', ' New Hope Fund', ' Sinovation Ventures\\n792      WRVI Capital', ' New Enterprise...\\n801    Bessemer Venture Partners', 'General Catalyst', ' Bow Wave Ca...\\n517    Spark Capital', ' Tiger Global manageme...\\n551     Signal Peak Ventures', ' Ideal ...\\n821    Silverton Partners', ' Norma Invest...\\n917                 Acero Capital', ' Northzone Ventures', ' Hanaco Venture Capital', ' Augmentum Fintech', ' FTV Capital', ' Ant...\\n556    Innovation Endeavors', ' Insight Partners\\n853    Balderton Capital', ' Sequoia Capi...\\n480    China Creation Ventures', ' Hellman & Friedman...\\n162    Sequoia Capital', ' Mayfair Equity Partners\\n588     IDG Capital', ' East Ventures', ' ...\\n835    Eclipse Ventures', ' Nor-Cal Invest', ' Trinity Ventures', ' E...\\n641      GGV Capital', ' Sequoia Capital\\n462    Shenzhen Capital Group', ' Sequoia Ca...\\n789    Bain Capital', ' Oak HC/FT Partners', ' Sigma P...\\n550    Helion Venture Partners', ' MaC Venture Capital', ' Sequoia Capital India', ' iNovia Capital', 'Lightspe...\\n54     Target Global', ' Pitango Venture Cap...\\n802            SCB 10X', ' Sequoi...\\n200    New Enterprise Associates', ' DST...\\n20                 Accel', ' Bain & Company', ' Lakestar', ' Norwest Venture Partners\\n776                                FTV Capital', ' Hedosophia\\n828    Thrive Capital', ' PayPal Ve...\\n511    Global Founders Capital', ' Global Fo...\\n626         IDG Capital', ' Point72 Ventures\\n883      Sequoia Capital', ' PremjiInvest', ' Left Lane Capital', ' Sequoia Capital India...\\n258              Accel', ' Aspect Ventures', ' Silversmith Capital Partners', ' Insight ...\\n284    Contour Venture Partners', ' Rembrandt Ven...\\n508       Kaszek Ventures', ' Light Street Ca...\\n472    Andreessen Horowitz', ' Micro...\\n222    Susquehanna Growth Equity', ' Durable Capital Partners', ' Starr Investment Ho...\\n159          Zeev Ventures', ' Carrick Ca...\\n633            Kinnevik', ' Blueflame Capital\\n786                                  One Equity Partners\\n787      Novator Partners', ' Hyde Pa...\\n679                       Glory Ventures', ' Tiger Global', ' Green Pine Capital Partners', ' New Leaf Venture Pa...\\n175        Google Ventures', ' Koch D...\\n575    Highland Capital Partners', ' Cox Enterprises', ' E Fund', ' Mithril C...\\n306    Norwest Venture Partners', ' SAIF Partners China', ' Tencent\\n120    Initialized Capital', ' Tencent Hold...\\n318         Relay Ventures', ' 500 Startups\\n735    Sequoia Capital China', ' Andreessen Hor...\\n66     Accel', ' Naspers\\n759    Volcanics Ventures', ' Sequoia Capital India...\\n860                  CE-Ventures', ' Trifecta ...\\n696    Sequoia Capital China', ' Acton Capital Partners', ' Monashees+\\n299       Sequoia Capital India', ' Gopher Asset Management...\\n706    Accel Partners', ' Tiger Brokers', ' Accel\\n177          General Atlantic', ' Rho Ventures\\n709    Kleiner Perkins Caufield & Byers', ' ...\\n70     Menlo Ventures', ' Kenetic Cap...\\n603    Shunwei Capital Partners', ' Atomico\\n312                                  IMM Investment', ' Jackson Square Ventures', ' ...\\n352    Accel Partners', ' Venture Highway\\n841        Sequoia Capital', ' Thirty Five Ventures', ' Elevation Capital', ' Rusnano\\n390    Tencent Holdings', ' Aleph\\n834    Griffin Gaming Partners', ' next47', ' Carlson Private Cap...\\n325    Threshold Ventures', ' Redpoint Vent...\\n600      Nextech Invest', ' Y Combinator\\n117    DST Global', ' Andreessen Ho...\\n703    Lindeman Asia Investment', ' Sequoia Capital\\n84                 Andreessen Horowitz', ' K2VC\\n714    Matrix Partners China', ' KKR\\n667     Opus Capital', ' Qualcomm Ventures', ' MenloVentures\\n90                 Warmsun Holding', '...\\n450               Greycroft', ' Sequoia Cap...\\n488     Morningside Ventures', ' Honeywell\\n602    BOLDstart Ventures', ' China Everbright Investment Man...\\n487    Trustbridge Partners', ' General Atlantic\\n157    Khosla Ventures', ' Tokopedia', ' Battery Ventures', ' Access Industries', ' ...\\n109      Redpoint Ventures', ' RRE Ventures', ' Kleiner Perkins Caufield & By...\\n427    Viola Ventures', ' ICONIQ Capital\\n188    NextView Ventures', ' Playground Global', ' Eclipse Ven...\\n911                 GGV Capital', ' Venrock\\n136    Sequoia Capital China', ' TI Platfo...\\n475                                       IFC', ' Plug and Play Ventures', ' Tribe Capital', ' Ascension Ven...\\n166                           BlackRock', ' Formation 8', ' Shasta Ventures', ' Kleiner Perkins Caufield ...\\n411          8VC', ' Institutional Venture Partners', ' Francisco Partners', ' Matrix Partners China', ' Sands Capital', ' eWTP Capital\\n803    C5 Capital', ' Maveron', ' Eleation Capital', ' Union Square Ve...\\n71                   Accel', ' FinVC\\n382             CRV', ' TDM Grow...', ' Quantum Energy Partners', ' Pitango Venture Cap...\\n274    Data Collective', ' Prosus Ventures\\n282    General Atlantic', ' Addor Capital', ' Lead Edge Capital...\\n251    Coatue Management', ' 500 Global', ' Plum Alley', ' Sequoia...\\n754    U.S.-China Green Fund', ' Green Pine Capital Partners\\n314                      Tencent Holdings', ' Ventura Capital', ' Redpoint Ventures', ' IDG Capital Partners\\n91     Sequoia Capital China', ' Creandum', ' Temasek\\n910    Lerer Hippeau', ' The Carlyle Group\\n605                    Alibaba Group', ' Global Asset Capital', ' Providence Equity P...\\n894      Rembrandt Venture Partners', ' Softbank Capital\\n305    Liberty City Ventures', ' Qihoo 360 Technology', ' Quo...\\n431    Blumberg Capital', ' White Star Capital', ' Mayfield\\n890             Accomplice', ' UBS\\n167    Greylock Partners', ' Thrive Capital\\n924      Google Ventures', ' SEB Venture Capital', ' IDG ...\\n29              Vickers Venture Partners', ' Salesforce Ventures', ' Thrity Five...\\n181    SoftBank Group', ' Dynamic...\\n898      Accel', ' Shunwei Capital Partners', ' New Enterprise Ass...\\n756       China Everbright Limited', ' A...\\n69     Bessemer Venture Partners', ' Walden Venture Capital', ' Coatue Management\\n40              DJF', ' CommerzV...\\n311               Kibo Ventures', ' SingTel Innov8', ' F-Prime Capital\\n500     Deciens Capital', ' T. Rowe Price', ' OMERS Ventures\\n453    Bessemer Venture Partners', ' OpenView Venture Partners\\n239              ConsenSys Ventures', ' Blue Cloud Ventures', ' Seedcamp', ' CVC Capital Partners\\n423    Insight Venture Partners', ' FirstMark Capital\\n891                          Accel', ' Clocktower Technology Ventu...\\n532    Index Ventures', ' Zeev Ventures', ' OpenVie...\\n767                             China Prosperity Capital\\n768      TAL Education Group', ' AXA Venture Partners', ' M12', ' SBI Inve...\\n261                                      Khosla Ventures\\n262           Grab', ' Accomplice', ' Amplify Partners', ' MoreVC', ' ...\\n201    China Environmental Protection Industry', ' Entree Capital', ' Sequoia Capit...\\n107     Index Ventures', ' CRE Venture Capital', ' Accel', ' Citi Ventures\\n800    Storm Ventures', ' B...\\n432    General Catalyst', ' Institutional Venture Partne...\\n23         Andreessen Horowitz', ' Greyhound Capital', ' Vertex ...\\n203    Union Square Ventures', ' Sina Weibo', ' Kleiner Perkins Cau...\\n700    FundersClub', ' DSC Investments', ' Endeavor\\n777    Matrix Partners China', ' Afore Capita...\\n649          Goodwater Capital', ' General Atlantic', ' Founders Fund\\n659    China Reform Fund', ' A91 Partners', ' Hongdao Capital', ' Qiming Venture Partners...\\n147                           Addition', ' ClalTech', ' Vcanbio\\n725    Goldman Sachs', ' Scale Venture...\\n317    RedBird Capital Partners', ' Qia...\\n746                            One Luxury Group', ' Bond\\n807      Bojiang Capital', ' G...\\n302    Shunwei Capital Partners', ' GE Ventures', ' IA Vent...\\n86     Global Founders Capital', ' Lib...\\n286                   JD.com', ' Aviation Industry Corporation ...\\n485    Volkswagen', ' Novato...\\n403    Institutional Venture Partners', ' IC...\\n417        K2VC', ' Bain Capital\\n887    Hillhouse Capital Management', ' Sequoia Capital\\n18     Tiger Global Management', ' AllegisCybe...\\n448    Crosslink Capital', ' Tiger Global manage...\\n536                   BNP Paribas', ' War...\\n760    Target Global', ' Bond Capital\\n165    Drive Capital', ' ...\\n818    Lightspeed Venture Partners', ' Morningside Group\\n77        Benchmark', ' Amadeus Capital Partners', ' Atlantic Food Labs', ' Qiming Venture Partners...\\n647    Source Code Capital', ' BlackRock\\n288                                        Rhone Capital\\n289            FAW Group', ' Google Capital\\n212    Bloomberg Beta', ' Greylock Par...\\n572    Hopu Investment Management', ' iFLYTEK\\n757    Georgian Co-Investment Fund', ' Resolute Ventures', ' .406 Ventures', ' Founders Fund\\n413                     SoftBank Group', ' Index Ventures\\n442    Threshold Ventures', ' Ch...\\n436     Thrive Capital', ' Sequoia Capital China', ' Lerer Hippeau\\n429    Jiangsu Sha Steel Group', ' GGV Capital\\n434    Moore Strategic Ventures', ' Pokemon Company Internationa...\\n53     SoftBank Group', ' FirstMark Capital', ' Canaan Partners\\n632    RPM Ventures', ' Bessemer Venture Partn...\\n615          Speedinvest', ' SK Ventures\\n833    Norwest Venture Partners', ' F-Prime Cap...\\n629    Polaris Partners', ' Tiger Global Management', ' MSA Capital\\n832       XBTO Ventures', ' Founders Fund\\n665     Spark Capital', ' Framework Ventures', ' Softbank\\n12     Tencent Holdings', ' TowerBrook Capital Partners\\n664    Khosla Ventures', ' Z...\\n728                             58.com', ' capitalG\\n342          Venrock', ' Navitas Cap...\\n930             DST Global', ' BMW i Vent...\\n607    Forerunner Ventures', ' Commerce Ve...\\n197    Airbus Ventures', ' Future...\\n399          Vision Plus Capital', ' Yaxia Automobile', ' Fidelit...\\n416    FirstMark Capital', ' Tru Arr...\\n903     Greylock Partners', ' Section 32\\n611    Index Ventures', ' Operator ...\\n640    Sequoia Capital India', ' Silversmith Capital Partners...\\n580          Gobi Partners', ' China Fortun...\\n279      Notion Capital', ' Kleiner Perkins Caulfield & Byers', ' Sierra Ventures', ' Net1 UEPS Technologies\\n733                         Co-Energy Finance', ' Altimeter Capital', ' Georgian Partners', ' Insight Partners\\n884    Goldman Sachs Asset Management', ' Goldman Sachs\\n459                                          GAM Holding\\n460    People Electrical Appliance Group China', ' Lightspeed Venture Pa...\\n579    Insight Partners', ' Andreessen Horowitz\\n831    Eastern Bell Capital', ' Alibaba Group\\n769       SBI Investment Korea', ' BGF Ventures', ' Greenoaks Capital ...\\n26     Star VC', ' Meituan Dianping', ' Kae Capital', ' Google', ' Green Innovations', ' Revolution Growth\\n208    Atop Capital', ' Hill...\\n617    Index Ventures', ' One Peak Partners', ' DS...\\n844    Version One Ventures', ' Draper Fisher Jurvetson', ' Norwest Venture Partners\\n170                    Georgian Partners', ' iFly', ' IDG Capital', ' Venrock\\n671               Accelm Scania Growth Capital', ' Bessemer Vent...\\n521    Accomplice', ' Khosla Ve...\\n547    Sequoia Capital India', ' ICON...\\n681    Polychain Capital', ' 8VC\\n785          JOY Capital', ' Kibo Ventures', ' Walden In...\\n334                Sequoia Capital China', ' D...\\n339    SoftBank Group', ' IDG Capital\\n886                                 Ardian', ' Hillhouse Capital Management\\n897    B Capital Group', ' BDT Capital Partner...\\n31        LTW Capital', ' Sequ...\\n880            Sequoia Capital India', ' Silver Lake\\n185    Breakthrough Energy Ventures', ' Ribbit Capital', ' Golden Gate Vent...\\n683    Sequoia Capital India', ' Chengwei Capital', ' Amasia\\n892       Anthemis', ' Alkeon Capital ...\\n782                     OLX Group', ' T...\\n654    Pelion Venture Partners', ' Globis Capital Partners', ' Blu Venture Inves...\\n498    Kleiner Perkins Caufield & Byers', ' QiMing Venture Partners', ' Electric Capital', ' 83North', ' ...\\n652                                 Advent International\\n653    Pelion Venture Partners', ' 3G Capital Management', ' Highland Europe\\n673         LocalGlobe', ' RTP Global', ' Fidel...\\n310    Octopus Ventures', ' Northern Light Venture Capita...\\n868                                         Bain Capital\\n869                              Y Combinator', ' CJ ENM', ' KCK Group', ' Felicis Vent...\\n210                               Alibaba Pictures Group\\n211        Tiger Global', ' Lowercase Capital', ' SoftBank Group. Monashees+\\n386    Insight Partners', ' GF Xinde Investment Management...\\n742    China Investment Corporation', ' IDG Capital\\n731    Standard Chartered', ' Balderton Capital\\n447    DataTribe', ' ZhenFund', ' Noshaq', ' Jump Capital\\n552    Refactor Capital', ' General Atlantic\\n483                GGV Capital', ' General Catalyst\\n866    Foundry Group', ' 468 Capital', ' SAP.iO Fund', ' Webb Investment Network', ' AU21\\n863       SEED Capital', ' CRV\\n395    Japan Post Capital', ' Greycroft\\n817    Matrix Partners China', ' Th...\\n163                     Andreessen Horowitz', ' Homebrew', ' ...\\n74     Andreessen Horowitz', ' 3L\\n598                     TSG Consumer Partners', ' BEENEXT\\n267           Point72 Ventures', ' Baidu', ' Atomico\\n331        Sequoia Capital China', ' 01 Advisors\\n702    Bain Capital Tech Opportunities', ' Kl...\\n39      Y Combinator', ' Sapphire Ventures', ' Battery Ventures\\n668             NewView Capital', ' Andreesse...\\n402    Northzone Ventures', ' SEEK\\n870    Kleiner Perkins Caufield & Byers', ' Buhuo ...\\n482                    Sequoia Capital', ' Temasek\\n437    Lerer Hippeau Ventures', ' Bessemer Venture Partners', ' Alven Capital', ' SOFTBANK Latin Ame...\\n874    Wing Venture Capital', ' General Cata...\\n190                                         EQT Partners\\n191    Activant Capital Group', ' Elevation Capital\\n344    ICONIQ Growth', ' Kalaari Capital\\n524    Eastern Bell Capital', ' Access Industries\\n541    Global Founders Capital', ' Accel\\n224    Ceyuan Ventures', ' Liberty Global Ventures', ' WestCap G...\\n840              Jungle Ventures', ' ZhenFund\\n798    Flybridge Capital Partners', ' Sequoia ...\\n25     DST Global', ' Spark...\\n827                  Tiger Global Management', ' Temasek H...\\n16          Tencent Holdings', ' North...\\n907    Vitruvian Partners', ' DST Global', '...\\n59                  01 Advisors', ' Goldman Sachs\\n606    CreditEase Fintech Investment Fund', ' Eurazeo', ' Redpoint Ventures...\\n144                     Benchmark', ' Blackstone', ' Inova Ventures Pa...\\n859    Tiger Global Management', ' Andreessen Hor...\\n919    BlueRun Ventures', ' Coinbase Ventures\\n218    Shunwei Capital Partners', ' Bessemer...\\n845    Northzone Ventures', ' Rich Land Capital', ' Tencent Hol...\\n118    Hillhouse Capital Management', ' Lightspe...\\n684    8VC', ' IDG Cap...\\n479    Kleiner Perkins Caufield & Byers', ' Summit Partners', ' Anthos Capital\\n21     New Enterprise Associates', ' Insights Partners\\n656    General Catalyst', ' We C...\\n677    Tiger Global Management', ' Advent Intern...\\n198         DFJ Growth Fund', ' Kleiner Per...\\n226    Global Founders Capital', ' General Atlantic\\n712    Banyan Capital', ' ...\\n119               Baidu Capital', ' Motus Ven...\\n354    Zheshang Venture Capital', ' Insight Partners\\n343                 VY Capital', ' Marcy Venture Partners', ' Bezos Expedit...\\n618    Sequoia Capital China', ' Xiang He Capital', ' ...\\n381                   next47', ' Mizuho Financial Gro...\\n358    Pitango Venture Capital', ' TQ Ventures\\n164                Accel', ' DCM Ventures', ' Tiger Global Management\\n794    Falcon Edge Capital', ' Kleiner...\\n93     Insight Partners', ' Maniv Mobility\\n680    GGV Capital', ' Accel\\n881    Qualcomm Ventures', ' Grayhawk Capital\\n243                                       Iconiq Capital\\n244    Brookfield Asset Management', ' Sequoi...\\n364             GGV Capital', ' Tiger Global ...\\n675             Zeev Ventures', ' Tus Holdings\\n290         Goldman Sachs', ' SIG Asia Investments', ' Atomico', ' Bitmain Technologies', ' Hummingbird Ventures', ' Com...\\n419    Venrock', ' Google Ventures\\n298    Soros Fund Management', ' Omidyar Network', ' Huagai Capital\\n122    Walden International', ' Western ...\\n355             Y Combinator', ' Source Code Capital', ' Goldman Sachs\\n425    Fashion Tech Lab', ' Kite Ventures\\n280                       Goldman Sachs Asset Management\\n281              Mubadala Capital', ' Alibaba Group\\n708      Matrix Partners', ' Burda Principal Inves...\\n135    SV Angel', ' Coatue Management\\n174    New Enterprise Associates', ' Das Capital\\n928    British Patient Capital', ' Presidio Ventures\\n613                   Accel', ' DT Capital Partners', ' ...\\n36     IDG Capital', ' GSR Ventures', ' Durable Capit...\\n55            DST Global', ' Huasheng Capital\\n98          Caffeinated Capital', ' Accel\\n230    Sequoia Capital China', ' Rothen...\\n2            Khosla Ventures', ' capitalG\\n3      Institutional Venture Partners', ' Go...\\n428                 SOSV', ' Doqling Capital Partners', ' Ainge Advisory', ' Nortzone Ventures', ' Guangdong Technology Financial...\\n205    Geely', ' Longzhu C...\\n525         China Grand Prosperity Investment', ' JAFCO', ' Meridian Capital\\n559    Sequoia Capital China', ' Wanxin Media\\n722    QiMing Venture Partners', ' FreesFund\\n912    Sequoia Capital China', ' Omidyar Network\\n899      Sequoia Capital', ' Hongxiu VC\\n764          JAFCO Co', ' Gaopeng Capital', ' EXOR Seeds\\n783    Union Square Ventures', ' China...\\n202    Insight Partners', ' Hemisphere Ventures', ' IDG Capital\\n415    JTC Group', ' Vertex Ventures', ' S...\\n934                KKR', ' Pi...\\n87          Atomico', ' Caterpi...\\n316    Google Ventures', ' Sou...\\n507    Mayfield Fund', ' Sequoia ...\\n795    Lightspeed Venture Partners', ' SignalFire\\n323                 Accel', ' Future Ventures', ' Spar Capital', ' Pereg Ventures\\n851             Bessemer Venture Partners', ' Newsion V...\\n663                     KKR', ' Galeo Ventures', ' G Sq...\\n829    Smilegate Investment', ' Lux Capital', 'Co-Stone Venture Capital', ' Threshold Ventures', ' Johnson & Johnson...\\n846    Optum Ventures', ' Tokyo Century Corporation\\n263    Founders Fund', ' Trammell Ventures', ' Coatue Management\\n88                                       Barter Ventures\\n89              Thrive Capital', ' Bedroc...\\n264       Monashees+', ' D...\\n717    Accel Partners', ' China State Capit...\\n206    Bessemer Venture Partners', ' Bla...\\n309    T. Rowe Price', ' JD ...\\n750     New Enterprise Associates', ' XVC Venture Capital', ' Alven...\\n771    American Express Ventures', ' Harvey Gol...\\n388                      Slack Fund', ' GE Healthcare', ' Bain...\\n772    Koch Disruptive Technologies', ' Mangrove Capital Partners', ' World Lab Innovation\\n370       Caffeinated Capital', ' Matrix Pa...\\n292            Chiratae Ventures', ' WestBridge Capital', ' M12\\n812    Sequoia Capital China', ' Eurazeo\\n747    Qiming Venture Partners', ' Institutional Venture Part...\\n341        Accel', ' Insights Venture Partners', ' Tiger Glo...\\n247    Uncork Capital', ' Georgian ...\\n850          Salesforce Ventures', ' Adams Str...\\n857    Hyde Park Venture Partners', ' Vis...\\n374    Qiming Venture Partners', ' QiMing Venture Partnersl\\n484    Warburg Pincus', ' Unicom I...\\n478    Sequoia Capital China', ' Sequoia Capital ...\\n391    Andreessen Horowitz', ' Kleiner Per...\\n38     General Catalyst Partners', ' Tencent Holdings\\n729       Warburg Pincus', ' Scale Venture Partners', ' Smash Ventures\\n10      Forerunner Ventures', ' In...\\n901    3one4 Capital Partners', ' Caisse de depot et placement du...\\n255    Uniion Square Ventures', ' Accel\\n380    Matrix Partners China', ' RRE Ventures\\n398    Northern Light Venture Capital', ' Passport Capital', ' Tema...\\n225    Sequoia Capital China', ' Echo Health Ven...\\n441    Insight Partners', ' Providence Ventures\\n130           Alven Capital', ' ICONIQ Capital\\n108    Lightspeed Venture Partners', ' Tencent Investment', ' Yunfeng Capital', ' BEENEXT\\n927          Gunosy Capital', ' Madrone Capital Partn...\\n494    Norwest Venture Partners', ' Accel\\n268    Tiger Global Management', ' Maverick Capital\\n414      Trustbridge Partners', ' New Enterprise Associates...\\n7             index Ventures', ' Capricorn Invest...\\n186    Bessemer Venture Partners', ' CR Capital Mgmt', ' Cadenza Ventures', ' Softbank Cor...\\n710                                                  NaN\\n711               Silver Lake Partners', ' SV Angel', ' Earlybird Venture ...\\n48                Summit Partners', ' S...\\n908       Valor Capital Group', ' ACE & Company\\n889                            NFX', ' Tiger Global Management...\\n548    Goodwater Capital', ' Ivy Capital', ' Sil...\\n723                                        Hinduja Group\\n724                                     Tencent', ' China R...\\n749    Prometheus Capital', ' Ballast Point Ventures\\n822    American Family Ventures', ' Lockheed Martin Ventures', ' G...\\n303    Google Ventures', ' Founder Collective\\n99     Technology Crossover Ventures', ' XVC Venture Capital\\n271            Highland Europe', ' Bright Venture Capita', ' Coatue Management\\n444                         Creandum', ' Ping An Insurance\\n720              SAIF Partners China', ' LowercaseCapital', ' Gaocheng Capital', ' Sway Ventures\\n336        Google Ventures', ' Trinity Ventures\\n141               Didi Chuxing', ' Unilever Ventures\\n791    CICC ALPHA', ' Mei...\\n920    Accel', ' Eastern Bell Capital', ' International ...\\n582    Bessemer Venture Partners', ' VebVentures', ' Frankl...\\n221    DST Global', ' TPG Growth\\n51                     Sequoia Capital China', ' Shunwei ...\\n715                       Woodford Investment Management\\n716    IDG Capital', ' Elaia Partners\\n838    Helion Venture Partners', ' Mayfield Fund\\n110                                     Insight Partners\\n111    Kaszek Ventures', ' PSG', ' InnoVision Capital', ' 500 Startups\\n501    Digital Currency Group', ' Legend Star', ' SoftBan...\\n867    NetEase Capital', ' Venture51', ' Co...\\n285    Insight Partners', ' Intel C...\\n123    Accel', ' Pitango Venture Capita...\\n366    Bertelsmann Asia Investments', ' Tiger Global Man...\\n805               CRV', ' Altos Ventures\\n895     Yunqi Partners', ' Steadview C...\\n63      Tenaya Capital', ' A&E Television ...\\n100    Thrive Capital', ' TLV Partners\\n160                  Index Ventures', ' Wakefield Group\\n304                          Info Edge', ' Infore Capital', ' Ford Autonomous Vehicles\\n73     Norwest Venture Partners', ' Sequoia ...\\n435    Redpoint Ventures', ' Zh...\\n269    Eight Roads Ventures', ' Orange Digita...\\n139    CDH Investments', ' For...\\n542       New Enterprise Associates', ' ICONIQ Growth\\n178          Blackstone', ' Matri...\\n253         Fabric Ventures', ' Fifth Wall Ventures', ' World Innovation Lab', ' Pelion Venture Partners', ' ...\\n76                            Tencent', ' Altos Ventures', ' Northzone Ventures\\n893    Advent International', ' T. Rowe Associates', ' FirstMark Capital\\n337    Eight Roads Ventures', ' Centralway\\n775       Section 32', ' Coinbase Ventures\\n330            General Atlantic', ' Tenaya Capital', ' US Vent...\\n571    Structure Capital', ' Far...\\n651    IDG Capital', ' CRE Venture Ca...\\n518    Nyca Partners', ' Founders', ' Bezos Expeditions', ' Wavemaker Partners', ' Emergence...\\n471    BEENEXT', ' NIO Capital', ' SDIC Innovation Investment Ma...\\n752                                 GCP Capital Partners\\n753    Sinovation Ventures', ' Tiger Global Managemen...\\n256    Tiger Global Management', ' Lig...\\n307    Menlo Ventures', ' DFJ Growth Fund', ' Warburg Pincus', ' Mo...\\n799        Wellington Management', ' Gra...\\n387    Oak HC/FT Partners', ' Merr...\\n697    New Enterprise Associates', ' GP Capital', ' Go-Ventures\\n300                   SoftBank Group', ' Point Ni...\\n349                                   L Capital Partners\\n350           RRE Ventures', ' Shanghai Puyin Indust...\\n430    Kaszek Ventures', ' Uniqa Ventures\\n616    Source Code Capital', ' Paradigm', ' Promecap\\n694                             Inflexion Private Equity\\n695    SAIF Partners India', ' Matrix P...\\n560    Green Pine Capital Partners', ' GGV Capital\\n915    Global Founders Capital', ' Mor...\\n367    Viola Ventures', ' Affirma...\\n732          Blue Label Telecoms', ' Borui Capital\\n97                      Tencent', ' Advancit Capital\\n614    Vertex Ventures Israel', ' Lightspeed...\\n635    Insight Partners', ' iTech Capital', ' Korelya...\\n502             Amiti Ventures', ' Slow Ventures', ' American Express Ventures\\n169             SoftBank Group', ' GLP Capital Partners', ' Temasek Holdings Ltd.', ' Fidelity Investments', ' Laun...\\n591    BOLDstart Ventures', ' International Finance Co...\\n872    Vertex Ventures SE Asia', ' IDInvest P...\\n763     BOC International', ' Storm Ventures\\n41      Index Ventures', ' CDH Investments', ' Global Logistic Propertie...\\n648    Kleiner Perkins Caufield & Byers', ' Menlo Ventures', ' Harriso...\\n443     DN Capital', ' Rakuten Ventures', ' Woori Investment', ' ING', ' Google Ventures', ' Norwest Venture Pa...\\n116     Andreessen Horowitz', ' Bain Capital V...\\n533      Kickstart Fund', ' Qiming Venture Partners', ' Zhong...\\n461         next47', ' Anth...\\n236    Sequoia Capital India', ' Ventech China', ' Cobalt Capital', ' Shea Ventures', ' Grandland\\n734                              K2 Global', ' Mubadala ...\\n761                                       SoftBank Group\\n762    Astanor Ventures', ' Bessemer Venture Partner...\\n622    Flagship Pioneering', ' Pear', ' 500 Startups', ' Blue Lake Capital', ' LeapFrog...\\n124    Clermont Group', ' Streamlined V...\\n347    Tencent Holdings', ' China Internet Invest...\\n644    Russia-China Investment Fund', ' Aleph', ' Tao Capital Partners', ' TPG Alternative & Renewable ...\\n362    Qiming Venture Partners', ' Partech Partners\\n446        Eurazeo', ' SBI Investment', ' Creandum\\n106    DST Global', ' Sequoia Capital China\\n627    Partech Partners', ' Global Founders Capital', ' Y Combinator', ' GX Capital\\n52     Nintendo', ' Leaders Fund', ' Technology Crossover Ventures', ' Cocnord Health ...\\n214                      Aglae Ventures', ' ...\\n173       D1 Capital Partners', ' Bat...\\n46     Sequoia Capital China', ' 83North\\n34     Tencent Holdings', ' Sequoia Capital China...\\n19     Tiger Global Management', ' ION Crossover Partners\\n523            Chiratae Ventures', ' Jump Cap...\\n682    500 Global', ' 3L\\n923            Index Ventures', ' Unicom Innovation Vent...\\n693           Goldman Sachs', ' Andreessen Horowitz\\n407        Gauss Ventures', ' VentureSouth', ' CRV', ' Israel Growth Part...\\n373    Tiantu Capital', ' Sequoia Capital', ' Tiger G...\\n438    Tao Capital Partners', ' KTB Ven...\\n830           Accel', ' Lightspeed Venture Partner...\\n143    Lightspeed Venture Partners', ' Nexus Venture ...\\n294    Warburg Pincus', ' Addition\\n199    Blume Ventures', ' Floodgate', ' Vulcan Capital\\n458                            TPG Growth', ' Chicago Ventures\\n676    China Culture Industrial Investment Fund']\n"
     ]
    }
   ],
   "source": [
    "todos_inversores = []\n",
    "\n",
    "for investors in unicornios['Investors']:\n",
    "    lista_inversores = investors.split(',')\n",
    "    todos_inversores.extend(lista_inversores)\n",
    "\n",
    "inversores_unicos = list(set(todos_inversores))\n",
    "print(inversores_unicos)\n"
   ]
  },
  {
   "cell_type": "code",
   "execution_count": 9,
   "metadata": {},
   "outputs": [
    {
     "name": "stdout",
     "output_type": "stream",
     "text": [
      "     Company  Valuation        Date        Country           City  \\\n",
      "0  Bytedance      140.0    4/7/2017          China        Beijing   \n",
      "1     SpaceX      100.3   12/1/2012  United States      Hawthorne   \n",
      "2     Stripe       95.0   1/23/2014  United States  San Francisco   \n",
      "3     Klarna       45.6  12/12/2011         Sweden      Stockholm   \n",
      "4      Canva       40.0    1/8/2018      Australia    Surry Hills   \n",
      "\n",
      "                       Industry  \\\n",
      "0       Artificial intelligence   \n",
      "1                         Other   \n",
      "2                       Fintech   \n",
      "3                       Fintech   \n",
      "4  Internet software & services   \n",
      "\n",
      "                                           Investors  year  month  day  \\\n",
      "0  0      Sequoia Capital China, SIG Asia Investm...  2017      7    4   \n",
      "1  0      Sequoia Capital China, SIG Asia Investm...  2012      1   12   \n",
      "2  0      Sequoia Capital China, SIG Asia Investm...  2014     23    1   \n",
      "3  0      Sequoia Capital China, SIG Asia Investm...  2011     12   12   \n",
      "4  0      Sequoia Capital China, SIG Asia Investm...  2018      8    1   \n",
      "\n",
      "   num_investors  \n",
      "0           1598  \n",
      "1           1598  \n",
      "2           1598  \n",
      "3           1598  \n",
      "4           1598  \n"
     ]
    }
   ],
   "source": [
    "unicornios['num_investors'] = unicornios['Investors'].apply(lambda x: len(x.split(',')))\n",
    "print(unicornios.head())"
   ]
  },
  {
   "cell_type": "code",
   "execution_count": 10,
   "metadata": {},
   "outputs": [],
   "source": [
    "#unicornios = pd.get_dummies(unicornios, columns=['Country', 'City', 'Industry']) "
   ]
  },
  {
   "cell_type": "code",
   "execution_count": 11,
   "metadata": {},
   "outputs": [
    {
     "data": {
      "text/plain": [
       "Index(['Company', 'Valuation', 'Date', 'Country', 'City', 'Industry',\n",
       "       'Investors', 'year', 'month', 'day', 'num_investors'],\n",
       "      dtype='object')"
      ]
     },
     "execution_count": 11,
     "metadata": {},
     "output_type": "execute_result"
    }
   ],
   "source": [
    "unicornios.columns"
   ]
  },
  {
   "cell_type": "code",
   "execution_count": 12,
   "metadata": {},
   "outputs": [],
   "source": [
    "import pandas as pd\n",
    "from sklearn.preprocessing import LabelEncoder\n",
    "\n",
    "def label_encode_columns(df, columns_to_encode):\n",
    "    \"\"\"\n",
    "    Realiza la codificación con LabelEncoder para columnas específicas en un dataframe.\n",
    "\n",
    "    Parámetros:\n",
    "    df (pandas.DataFrame): El dataframe que contiene las columnas a codificar.\n",
    "    columns_to_encode (list): Una lista de nombres de columnas a codificar.\n",
    "\n",
    "    Retorna:\n",
    "    pandas.DataFrame: El dataframe original con las columnas codificadas mediante LabelEncoder.\n",
    "    \"\"\"\n",
    "    df_encoded = df.copy()\n",
    "    label_encoder = LabelEncoder()\n",
    "\n",
    "    for column in columns_to_encode:\n",
    "        df_encoded[column] = label_encoder.fit_transform(df_encoded[column])\n",
    "        \n",
    "    from joblib import dump\n",
    "\n",
    "    dump(label_encoder, 'label_encoder_pablo.joblib') \n",
    "    return df_encoded, label_encoder\n",
    "\n",
    "columnas_a_codificar = ['Industry', 'Country']\n",
    "unicornios_encoded, label_encoder = label_encode_columns(unicornios, columns_to_encode=columnas_a_codificar)"
   ]
  },
  {
   "cell_type": "code",
   "execution_count": 13,
   "metadata": {},
   "outputs": [],
   "source": [
    "unicornios_encoded.drop([\"Date\", \"Company\",\"Investors\", \"City\"], axis=1, inplace=True)"
   ]
  },
  {
   "cell_type": "code",
   "execution_count": null,
   "metadata": {},
   "outputs": [],
   "source": []
  },
  {
   "cell_type": "code",
   "execution_count": 18,
   "metadata": {},
   "outputs": [],
   "source": [
    "from sklearn.preprocessing import StandardScaler\n",
    "\n",
    "scaler = StandardScaler()\n",
    "unicornios_encoded['num_investors'] = scaler.fit_transform(unicornios_encoded[['num_investors']])"
   ]
  },
  {
   "cell_type": "code",
   "execution_count": 19,
   "metadata": {},
   "outputs": [
    {
     "data": {
      "text/plain": [
       "['label_encoder.joblib']"
      ]
     },
     "execution_count": 19,
     "metadata": {},
     "output_type": "execute_result"
    }
   ],
   "source": [
    "from joblib import dump\n",
    "\n",
    "dump(scaler, 'scaler.joblib') \n",
    "from joblib import dump\n",
    "\n",
    "#dump(label_encoder, 'label_encoder.joblib') "
   ]
  },
  {
   "cell_type": "code",
   "execution_count": 37,
   "metadata": {},
   "outputs": [],
   "source": [
    "from sklearn.metrics import mean_absolute_error, mean_squared_error, r2_score\n",
    "from sklearn.linear_model import LinearRegression\n",
    "from sklearn.preprocessing import PolynomialFeatures\n",
    "from sklearn.model_selection import train_test_split\n",
    "from sklearn.tree import DecisionTreeRegressor\n",
    "from sklearn.neighbors import KNeighborsRegressor\n",
    "from sklearn.svm import SVR\n",
    "from sklearn.ensemble import RandomForestRegressor\n",
    "from math import sqrt\n",
    "\n",
    "\n",
    "X = unicornios_encoded.drop([\"day\",\"Valuation\",\"month\"],axis=1)  \n",
    "y = unicornios_encoded['Valuation']\n",
    "\n",
    "X_train, X_test, y_train, y_test = train_test_split(X, y, test_size=0.2, random_state=42)\n"
   ]
  },
  {
   "cell_type": "code",
   "execution_count": 38,
   "metadata": {},
   "outputs": [
    {
     "name": "stdout",
     "output_type": "stream",
     "text": [
      "Modelo: Mejor Random Forest\n",
      "MSE: 52.71361683012822\n",
      "MAE: 2.427643997429033\n",
      "RMSE: 7.260414370414971\n",
      "R2 Score: -0.04089968704496383\n",
      "\n",
      "\n"
     ]
    }
   ],
   "source": [
    "\n",
    "best_rf = RandomForestRegressor(n_estimators=50, max_depth=20, min_samples_split=5, min_samples_leaf=4, random_state=42)\n",
    "\n",
    "\n",
    "best_rf.fit(X_train, y_train)\n",
    "\n",
    "\n",
    "y_pred = best_rf.predict(X_test)\n",
    "\n",
    "\n",
    "mse = mean_squared_error(y_test, y_pred)\n",
    "mae = mean_absolute_error(y_test, y_pred)\n",
    "rmse = sqrt(mse)\n",
    "r2 = r2_score(y_test, y_pred)\n",
    "\n",
    "\n",
    "print(f\"Modelo: Mejor Random Forest\")   \n",
    "print(f\"MSE: {mse}\")\n",
    "print(f\"MAE: {mae}\")\n",
    "print(f\"RMSE: {rmse}\")\n",
    "print(f\"R2 Score: {r2}\")\n",
    "print(\"\\n\")\n"
   ]
  },
  {
   "cell_type": "code",
   "execution_count": 44,
   "metadata": {},
   "outputs": [],
   "source": [
    "df_prueba = best_rf.feature_importances_ "
   ]
  },
  {
   "cell_type": "code",
   "execution_count": 46,
   "metadata": {},
   "outputs": [],
   "source": [
    "future_import = pd.DataFrame({'Feature': X.columns, 'Importance': df_prueba})"
   ]
  },
  {
   "cell_type": "code",
   "execution_count": 48,
   "metadata": {},
   "outputs": [
    {
     "name": "stderr",
     "output_type": "stream",
     "text": [
      "c:\\Users\\horta\\AppData\\Local\\Programs\\Python\\Python311\\Lib\\site-packages\\sklearn\\base.py:464: UserWarning: X does not have valid feature names, but RandomForestRegressor was fitted with feature names\n",
      "  warnings.warn(\n"
     ]
    },
    {
     "data": {
      "text/plain": [
       "array([18.85539203])"
      ]
     },
     "execution_count": 48,
     "metadata": {},
     "output_type": "execute_result"
    }
   ],
   "source": [
    "best_rf.predict([X.iloc[0]])"
   ]
  },
  {
   "cell_type": "code",
   "execution_count": 40,
   "metadata": {},
   "outputs": [
    {
     "data": {
      "text/plain": [
       "['new_model.joblib']"
      ]
     },
     "execution_count": 40,
     "metadata": {},
     "output_type": "execute_result"
    }
   ],
   "source": [
    "\n",
    "\n",
    "dump(best_rf, 'new_model.joblib') "
   ]
  },
  {
   "cell_type": "code",
   "execution_count": 25,
   "metadata": {},
   "outputs": [
    {
     "data": {
      "text/plain": [
       "['prueba_33.joblib']"
      ]
     },
     "execution_count": 25,
     "metadata": {},
     "output_type": "execute_result"
    }
   ],
   "source": [
    "import joblib\n",
    "joblib.dump(mojon, 'prueba_33.joblib')"
   ]
  },
  {
   "cell_type": "code",
   "execution_count": 41,
   "metadata": {},
   "outputs": [
    {
     "data": {
      "text/plain": [
       "['pablo.joblib']"
      ]
     },
     "execution_count": 41,
     "metadata": {},
     "output_type": "execute_result"
    }
   ],
   "source": [
    "dump(best_rf, 'pablo.joblib') "
   ]
  },
  {
   "cell_type": "code",
   "execution_count": 26,
   "metadata": {},
   "outputs": [],
   "source": [
    "from sklearn.preprocessing import LabelEncoder\n",
    "label_encoder_2 = LabelEncoder()"
   ]
  },
  {
   "cell_type": "code",
   "execution_count": 27,
   "metadata": {},
   "outputs": [],
   "source": [
    "prueba = label_encoder_2.fit_transform(['year', 'num_investors', 'industry', 'country'])"
   ]
  },
  {
   "cell_type": "code",
   "execution_count": null,
   "metadata": {},
   "outputs": [],
   "source": [
    "modelo_prueba = joblib.load('new_model.joblib')"
   ]
  }
 ],
 "metadata": {
  "kernelspec": {
   "display_name": "Python 3",
   "language": "python",
   "name": "python3"
  },
  "language_info": {
   "codemirror_mode": {
    "name": "ipython",
    "version": 3
   },
   "file_extension": ".py",
   "mimetype": "text/x-python",
   "name": "python",
   "nbconvert_exporter": "python",
   "pygments_lexer": "ipython3",
   "version": "3.11.4"
  },
  "orig_nbformat": 4
 },
 "nbformat": 4,
 "nbformat_minor": 2
}
